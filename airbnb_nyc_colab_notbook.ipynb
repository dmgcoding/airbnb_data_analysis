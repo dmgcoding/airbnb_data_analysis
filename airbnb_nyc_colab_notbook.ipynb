{
 "cells": [
  {
   "attachments": {},
   "cell_type": "markdown",
   "metadata": {
    "id": "4VDwi_GS6Hid"
   },
   "source": [
    "## Please refer 'airbnb_nyc_data_analyze_and_modeling_v3' notebook for latest version.\n",
    "\n",
    "# Airbnb\n",
    "\n",
    "Dataset I used describes the listing activity and metrics in NYC, NY for 2019.\n",
    "\n",
    "Dataset link > https://www.kaggle.com/datasets/dgomonov/new-york-city-airbnb-open-data\n",
    "\n",
    "## End Goal/Purpose\n",
    "\n",
    "Main Goal - is to analyze data to see the what kind of listings people used most, what locations/neighborhoods are the most expensive, how parameters like availability or minmum nights affect the the price.\n",
    "\n",
    "Secondary - And how to use data to build ml models to predict the cost of accomadations in a certain location and certain accomadation type(private,shared,entire home), minimum nights etc. This is for a customer/user. And ml models to predict the property price or predicted income for property owners who wish to rent their property.\n",
    "\n",
    "## Analyzing, Visualizing and Cleaning data\n",
    "\n",
    "Here we\n",
    "analyze data, visualize, see correlations,decide what column do we need and what we don't need, remove unrelated columns, look for the null/na values or wrong data, treat those data, check outliers, treat the outliers and see if it needs more cleaning.\n",
    "\n",
    "## Preprocessing\n",
    "\n",
    "Preprocessing data to feed the model, split data for training, evaluating and testing\n",
    "\n",
    "## Model\n",
    "\n",
    "build the model.\n",
    "\n",
    "## evaluate and test the efficiency\n",
    "\n",
    "evaluate the model's efficiency and test the data with test dataset manually.\n",
    "\n",
    "## report\n",
    "\n",
    "create a report of data and model input shapes, etc.\n"
   ]
  },
  {
   "cell_type": "code",
   "execution_count": null,
   "metadata": {
    "executionInfo": {
     "elapsed": 4964,
     "status": "ok",
     "timestamp": 1687419035469,
     "user": {
      "displayName": "Shehan DMG",
      "userId": "14911428634724278187"
     },
     "user_tz": -330
    },
    "id": "mfo0izgF5qaJ"
   },
   "outputs": [],
   "source": [
    "%pip install pandas\n",
    "%pip install numpy\n",
    "%pip install seaborn\n",
    "%pip install tensorflow\n",
    "%pip install matplotlib"
   ]
  },
  {
   "cell_type": "code",
   "execution_count": 2,
   "metadata": {
    "executionInfo": {
     "elapsed": 4964,
     "status": "ok",
     "timestamp": 1687419035469,
     "user": {
      "displayName": "Shehan DMG",
      "userId": "14911428634724278187"
     },
     "user_tz": -330
    },
    "id": "mfo0izgF5qaJ"
   },
   "outputs": [
    {
     "ename": "ModuleNotFoundError",
     "evalue": "No module named 'tensorflow'",
     "output_type": "error",
     "traceback": [
      "\u001b[1;31m---------------------------------------------------------------------------\u001b[0m",
      "\u001b[1;31mModuleNotFoundError\u001b[0m                       Traceback (most recent call last)",
      "Cell \u001b[1;32mIn[2], line 5\u001b[0m\n\u001b[0;32m      3\u001b[0m \u001b[38;5;28;01mimport\u001b[39;00m \u001b[38;5;21;01mnumpy\u001b[39;00m \u001b[38;5;28;01mas\u001b[39;00m \u001b[38;5;21;01mnp\u001b[39;00m\n\u001b[0;32m      4\u001b[0m \u001b[38;5;28;01mimport\u001b[39;00m \u001b[38;5;21;01mseaborn\u001b[39;00m \u001b[38;5;28;01mas\u001b[39;00m \u001b[38;5;21;01msns\u001b[39;00m\n\u001b[1;32m----> 5\u001b[0m \u001b[38;5;28;01mimport\u001b[39;00m \u001b[38;5;21;01mtensorflow\u001b[39;00m \u001b[38;5;28;01mas\u001b[39;00m \u001b[38;5;21;01mtf\u001b[39;00m\n\u001b[0;32m      6\u001b[0m \u001b[38;5;28;01mimport\u001b[39;00m \u001b[38;5;21;01mmatplotlib\u001b[39;00m\u001b[38;5;21;01m.\u001b[39;00m\u001b[38;5;21;01mpyplot\u001b[39;00m \u001b[38;5;28;01mas\u001b[39;00m \u001b[38;5;21;01mplt\u001b[39;00m\n\u001b[0;32m      7\u001b[0m keras \u001b[38;5;241m=\u001b[39m tf\u001b[38;5;241m.\u001b[39mkeras\n",
      "\u001b[1;31mModuleNotFoundError\u001b[0m: No module named 'tensorflow'"
     ]
    }
   ],
   "source": [
    "# imports\n",
    "import pandas as pd\n",
    "import numpy as np\n",
    "import seaborn as sns\n",
    "import tensorflow as tf\n",
    "import matplotlib.pyplot as plt\n",
    "keras = tf.keras"
   ]
  },
  {
   "attachments": {},
   "cell_type": "markdown",
   "metadata": {
    "id": "rZWZDZBfAgx9"
   },
   "source": [
    "### load data\n"
   ]
  },
  {
   "cell_type": "code",
   "execution_count": null,
   "metadata": {
    "executionInfo": {
     "elapsed": 3997,
     "status": "ok",
     "timestamp": 1687419039452,
     "user": {
      "displayName": "Shehan DMG",
      "userId": "14911428634724278187"
     },
     "user_tz": -330
    },
    "id": "A8vAvSAT_yWV"
   },
   "outputs": [],
   "source": [
    "df = pd.read_csv(\n",
    "    'https://drive.google.com/uc?export=download&id=1gZub5RlOFHcEuyamGmKdg0SYOIViyspW')"
   ]
  },
  {
   "attachments": {},
   "cell_type": "markdown",
   "metadata": {
    "id": "GH3DBAxbAa8N"
   },
   "source": [
    "## Analyze, visualize data\n"
   ]
  },
  {
   "cell_type": "code",
   "execution_count": 3,
   "metadata": {
    "colab": {
     "base_uri": "https://localhost:8080/",
     "height": 461
    },
    "executionInfo": {
     "elapsed": 438,
     "status": "ok",
     "timestamp": 1687419105254,
     "user": {
      "displayName": "Shehan DMG",
      "userId": "14911428634724278187"
     },
     "user_tz": -330
    },
    "id": "HwOVYust_0W8",
    "outputId": "de733c67-73c1-4c3d-f0eb-da1c36b3db2a"
   },
   "outputs": [
    {
     "data": {
      "text/html": [
       "\n",
       "  <div id=\"df-2c0fa199-b26e-4e82-9fd3-093cae1d95f6\">\n",
       "    <div class=\"colab-df-container\">\n",
       "      <div>\n",
       "<style scoped>\n",
       "    .dataframe tbody tr th:only-of-type {\n",
       "        vertical-align: middle;\n",
       "    }\n",
       "\n",
       "    .dataframe tbody tr th {\n",
       "        vertical-align: top;\n",
       "    }\n",
       "\n",
       "    .dataframe thead th {\n",
       "        text-align: right;\n",
       "    }\n",
       "</style>\n",
       "<table border=\"1\" class=\"dataframe\">\n",
       "  <thead>\n",
       "    <tr style=\"text-align: right;\">\n",
       "      <th></th>\n",
       "      <th>id</th>\n",
       "      <th>name</th>\n",
       "      <th>host_id</th>\n",
       "      <th>host_name</th>\n",
       "      <th>neighbourhood_group</th>\n",
       "      <th>neighbourhood</th>\n",
       "      <th>latitude</th>\n",
       "      <th>longitude</th>\n",
       "      <th>room_type</th>\n",
       "      <th>price</th>\n",
       "      <th>minimum_nights</th>\n",
       "      <th>number_of_reviews</th>\n",
       "      <th>last_review</th>\n",
       "      <th>reviews_per_month</th>\n",
       "      <th>calculated_host_listings_count</th>\n",
       "      <th>availability_365</th>\n",
       "    </tr>\n",
       "  </thead>\n",
       "  <tbody>\n",
       "    <tr>\n",
       "      <th>0</th>\n",
       "      <td>2539</td>\n",
       "      <td>Clean &amp; quiet apt home by the park</td>\n",
       "      <td>2787</td>\n",
       "      <td>John</td>\n",
       "      <td>Brooklyn</td>\n",
       "      <td>Kensington</td>\n",
       "      <td>40.64749</td>\n",
       "      <td>-73.97237</td>\n",
       "      <td>Private room</td>\n",
       "      <td>149</td>\n",
       "      <td>1</td>\n",
       "      <td>9</td>\n",
       "      <td>2018-10-19</td>\n",
       "      <td>0.21</td>\n",
       "      <td>6</td>\n",
       "      <td>365</td>\n",
       "    </tr>\n",
       "    <tr>\n",
       "      <th>1</th>\n",
       "      <td>2595</td>\n",
       "      <td>Skylit Midtown Castle</td>\n",
       "      <td>2845</td>\n",
       "      <td>Jennifer</td>\n",
       "      <td>Manhattan</td>\n",
       "      <td>Midtown</td>\n",
       "      <td>40.75362</td>\n",
       "      <td>-73.98377</td>\n",
       "      <td>Entire home/apt</td>\n",
       "      <td>225</td>\n",
       "      <td>1</td>\n",
       "      <td>45</td>\n",
       "      <td>2019-05-21</td>\n",
       "      <td>0.38</td>\n",
       "      <td>2</td>\n",
       "      <td>355</td>\n",
       "    </tr>\n",
       "    <tr>\n",
       "      <th>2</th>\n",
       "      <td>3647</td>\n",
       "      <td>THE VILLAGE OF HARLEM....NEW YORK !</td>\n",
       "      <td>4632</td>\n",
       "      <td>Elisabeth</td>\n",
       "      <td>Manhattan</td>\n",
       "      <td>Harlem</td>\n",
       "      <td>40.80902</td>\n",
       "      <td>-73.94190</td>\n",
       "      <td>Private room</td>\n",
       "      <td>150</td>\n",
       "      <td>3</td>\n",
       "      <td>0</td>\n",
       "      <td>NaN</td>\n",
       "      <td>NaN</td>\n",
       "      <td>1</td>\n",
       "      <td>365</td>\n",
       "    </tr>\n",
       "    <tr>\n",
       "      <th>3</th>\n",
       "      <td>3831</td>\n",
       "      <td>Cozy Entire Floor of Brownstone</td>\n",
       "      <td>4869</td>\n",
       "      <td>LisaRoxanne</td>\n",
       "      <td>Brooklyn</td>\n",
       "      <td>Clinton Hill</td>\n",
       "      <td>40.68514</td>\n",
       "      <td>-73.95976</td>\n",
       "      <td>Entire home/apt</td>\n",
       "      <td>89</td>\n",
       "      <td>1</td>\n",
       "      <td>270</td>\n",
       "      <td>2019-07-05</td>\n",
       "      <td>4.64</td>\n",
       "      <td>1</td>\n",
       "      <td>194</td>\n",
       "    </tr>\n",
       "    <tr>\n",
       "      <th>4</th>\n",
       "      <td>5022</td>\n",
       "      <td>Entire Apt: Spacious Studio/Loft by central park</td>\n",
       "      <td>7192</td>\n",
       "      <td>Laura</td>\n",
       "      <td>Manhattan</td>\n",
       "      <td>East Harlem</td>\n",
       "      <td>40.79851</td>\n",
       "      <td>-73.94399</td>\n",
       "      <td>Entire home/apt</td>\n",
       "      <td>80</td>\n",
       "      <td>10</td>\n",
       "      <td>9</td>\n",
       "      <td>2018-11-19</td>\n",
       "      <td>0.10</td>\n",
       "      <td>1</td>\n",
       "      <td>0</td>\n",
       "    </tr>\n",
       "  </tbody>\n",
       "</table>\n",
       "</div>\n",
       "      <button class=\"colab-df-convert\" onclick=\"convertToInteractive('df-2c0fa199-b26e-4e82-9fd3-093cae1d95f6')\"\n",
       "              title=\"Convert this dataframe to an interactive table.\"\n",
       "              style=\"display:none;\">\n",
       "        \n",
       "  <svg xmlns=\"http://www.w3.org/2000/svg\" height=\"24px\"viewBox=\"0 0 24 24\"\n",
       "       width=\"24px\">\n",
       "    <path d=\"M0 0h24v24H0V0z\" fill=\"none\"/>\n",
       "    <path d=\"M18.56 5.44l.94 2.06.94-2.06 2.06-.94-2.06-.94-.94-2.06-.94 2.06-2.06.94zm-11 1L8.5 8.5l.94-2.06 2.06-.94-2.06-.94L8.5 2.5l-.94 2.06-2.06.94zm10 10l.94 2.06.94-2.06 2.06-.94-2.06-.94-.94-2.06-.94 2.06-2.06.94z\"/><path d=\"M17.41 7.96l-1.37-1.37c-.4-.4-.92-.59-1.43-.59-.52 0-1.04.2-1.43.59L10.3 9.45l-7.72 7.72c-.78.78-.78 2.05 0 2.83L4 21.41c.39.39.9.59 1.41.59.51 0 1.02-.2 1.41-.59l7.78-7.78 2.81-2.81c.8-.78.8-2.07 0-2.86zM5.41 20L4 18.59l7.72-7.72 1.47 1.35L5.41 20z\"/>\n",
       "  </svg>\n",
       "      </button>\n",
       "      \n",
       "  <style>\n",
       "    .colab-df-container {\n",
       "      display:flex;\n",
       "      flex-wrap:wrap;\n",
       "      gap: 12px;\n",
       "    }\n",
       "\n",
       "    .colab-df-convert {\n",
       "      background-color: #E8F0FE;\n",
       "      border: none;\n",
       "      border-radius: 50%;\n",
       "      cursor: pointer;\n",
       "      display: none;\n",
       "      fill: #1967D2;\n",
       "      height: 32px;\n",
       "      padding: 0 0 0 0;\n",
       "      width: 32px;\n",
       "    }\n",
       "\n",
       "    .colab-df-convert:hover {\n",
       "      background-color: #E2EBFA;\n",
       "      box-shadow: 0px 1px 2px rgba(60, 64, 67, 0.3), 0px 1px 3px 1px rgba(60, 64, 67, 0.15);\n",
       "      fill: #174EA6;\n",
       "    }\n",
       "\n",
       "    [theme=dark] .colab-df-convert {\n",
       "      background-color: #3B4455;\n",
       "      fill: #D2E3FC;\n",
       "    }\n",
       "\n",
       "    [theme=dark] .colab-df-convert:hover {\n",
       "      background-color: #434B5C;\n",
       "      box-shadow: 0px 1px 3px 1px rgba(0, 0, 0, 0.15);\n",
       "      filter: drop-shadow(0px 1px 2px rgba(0, 0, 0, 0.3));\n",
       "      fill: #FFFFFF;\n",
       "    }\n",
       "  </style>\n",
       "\n",
       "      <script>\n",
       "        const buttonEl =\n",
       "          document.querySelector('#df-2c0fa199-b26e-4e82-9fd3-093cae1d95f6 button.colab-df-convert');\n",
       "        buttonEl.style.display =\n",
       "          google.colab.kernel.accessAllowed ? 'block' : 'none';\n",
       "\n",
       "        async function convertToInteractive(key) {\n",
       "          const element = document.querySelector('#df-2c0fa199-b26e-4e82-9fd3-093cae1d95f6');\n",
       "          const dataTable =\n",
       "            await google.colab.kernel.invokeFunction('convertToInteractive',\n",
       "                                                     [key], {});\n",
       "          if (!dataTable) return;\n",
       "\n",
       "          const docLinkHtml = 'Like what you see? Visit the ' +\n",
       "            '<a target=\"_blank\" href=https://colab.research.google.com/notebooks/data_table.ipynb>data table notebook</a>'\n",
       "            + ' to learn more about interactive tables.';\n",
       "          element.innerHTML = '';\n",
       "          dataTable['output_type'] = 'display_data';\n",
       "          await google.colab.output.renderOutput(dataTable, element);\n",
       "          const docLink = document.createElement('div');\n",
       "          docLink.innerHTML = docLinkHtml;\n",
       "          element.appendChild(docLink);\n",
       "        }\n",
       "      </script>\n",
       "    </div>\n",
       "  </div>\n",
       "  "
      ],
      "text/plain": [
       "     id                                              name  host_id  \\\n",
       "0  2539                Clean & quiet apt home by the park     2787   \n",
       "1  2595                             Skylit Midtown Castle     2845   \n",
       "2  3647               THE VILLAGE OF HARLEM....NEW YORK !     4632   \n",
       "3  3831                   Cozy Entire Floor of Brownstone     4869   \n",
       "4  5022  Entire Apt: Spacious Studio/Loft by central park     7192   \n",
       "\n",
       "     host_name neighbourhood_group neighbourhood  latitude  longitude  \\\n",
       "0         John            Brooklyn    Kensington  40.64749  -73.97237   \n",
       "1     Jennifer           Manhattan       Midtown  40.75362  -73.98377   \n",
       "2    Elisabeth           Manhattan        Harlem  40.80902  -73.94190   \n",
       "3  LisaRoxanne            Brooklyn  Clinton Hill  40.68514  -73.95976   \n",
       "4        Laura           Manhattan   East Harlem  40.79851  -73.94399   \n",
       "\n",
       "         room_type  price  minimum_nights  number_of_reviews last_review  \\\n",
       "0     Private room    149               1                  9  2018-10-19   \n",
       "1  Entire home/apt    225               1                 45  2019-05-21   \n",
       "2     Private room    150               3                  0         NaN   \n",
       "3  Entire home/apt     89               1                270  2019-07-05   \n",
       "4  Entire home/apt     80              10                  9  2018-11-19   \n",
       "\n",
       "   reviews_per_month  calculated_host_listings_count  availability_365  \n",
       "0               0.21                               6               365  \n",
       "1               0.38                               2               355  \n",
       "2                NaN                               1               365  \n",
       "3               4.64                               1               194  \n",
       "4               0.10                               1                 0  "
      ]
     },
     "execution_count": 3,
     "metadata": {},
     "output_type": "execute_result"
    }
   ],
   "source": [
    "df.head()"
   ]
  },
  {
   "cell_type": "code",
   "execution_count": 4,
   "metadata": {
    "colab": {
     "base_uri": "https://localhost:8080/"
    },
    "executionInfo": {
     "elapsed": 408,
     "status": "ok",
     "timestamp": 1687419108003,
     "user": {
      "displayName": "Shehan DMG",
      "userId": "14911428634724278187"
     },
     "user_tz": -330
    },
    "id": "g_3njIuy_42-",
    "outputId": "364660c3-2634-40ed-b4c7-e952653d3245"
   },
   "outputs": [
    {
     "name": "stdout",
     "output_type": "stream",
     "text": [
      "<class 'pandas.core.frame.DataFrame'>\n",
      "RangeIndex: 48895 entries, 0 to 48894\n",
      "Data columns (total 16 columns):\n",
      " #   Column                          Non-Null Count  Dtype  \n",
      "---  ------                          --------------  -----  \n",
      " 0   id                              48895 non-null  int64  \n",
      " 1   name                            48879 non-null  object \n",
      " 2   host_id                         48895 non-null  int64  \n",
      " 3   host_name                       48874 non-null  object \n",
      " 4   neighbourhood_group             48895 non-null  object \n",
      " 5   neighbourhood                   48895 non-null  object \n",
      " 6   latitude                        48895 non-null  float64\n",
      " 7   longitude                       48895 non-null  float64\n",
      " 8   room_type                       48895 non-null  object \n",
      " 9   price                           48895 non-null  int64  \n",
      " 10  minimum_nights                  48895 non-null  int64  \n",
      " 11  number_of_reviews               48895 non-null  int64  \n",
      " 12  last_review                     38843 non-null  object \n",
      " 13  reviews_per_month               38843 non-null  float64\n",
      " 14  calculated_host_listings_count  48895 non-null  int64  \n",
      " 15  availability_365                48895 non-null  int64  \n",
      "dtypes: float64(3), int64(7), object(6)\n",
      "memory usage: 6.0+ MB\n"
     ]
    }
   ],
   "source": [
    "df.info()"
   ]
  },
  {
   "attachments": {},
   "cell_type": "markdown",
   "metadata": {
    "id": "UAfr5XNtAE0l"
   },
   "source": [
    "We have 48895 rows and 16 columns in the dataset.\n",
    "\n",
    "As you can see from the output there are some null values.\n"
   ]
  },
  {
   "cell_type": "code",
   "execution_count": 5,
   "metadata": {
    "colab": {
     "base_uri": "https://localhost:8080/",
     "height": 704
    },
    "executionInfo": {
     "elapsed": 1373,
     "status": "ok",
     "timestamp": 1687419111011,
     "user": {
      "displayName": "Shehan DMG",
      "userId": "14911428634724278187"
     },
     "user_tz": -330
    },
    "id": "J6jaxB2GAFiV",
    "outputId": "ba8e041d-88ae-458d-b5ef-ff0ae0908d4a"
   },
   "outputs": [
    {
     "name": "stderr",
     "output_type": "stream",
     "text": [
      "<ipython-input-5-6dc1c4c1753e>:1: FutureWarning: The default value of numeric_only in DataFrame.corr is deprecated. In a future version, it will default to False. Select only valid columns or specify the value of numeric_only to silence this warning.\n",
      "  sns.heatmap(df.corr(), annot=True)\n"
     ]
    },
    {
     "data": {
      "text/plain": [
       "<Axes: >"
      ]
     },
     "execution_count": 5,
     "metadata": {},
     "output_type": "execute_result"
    },
    {
     "data": {
      "image/png": "[encoded data removed]",
      "text/plain": [
       "<Figure size 640x480 with 2 Axes>"
      ]
     },
     "metadata": {},
     "output_type": "display_data"
    }
   ],
   "source": [
    "sns.heatmap(df.corr(), annot=True)"
   ]
  },
  {
   "attachments": {},
   "cell_type": "markdown",
   "metadata": {
    "id": "Ov1wu2v1Ayjs"
   },
   "source": [
    "I don't see any significant direct corrleations between parameters. We can see reviews_per_month and number_of_reviews have 0.5 correlation. That is straightforward but all of the other values are very low.\n"
   ]
  },
  {
   "attachments": {},
   "cell_type": "markdown",
   "metadata": {
    "id": "84_8QA1OBaGc"
   },
   "source": [
    "One property can have one hostname, one hostname can have multiple properties. Let's see how many properties one hostname own average(mean)\n"
   ]
  },
  {
   "cell_type": "code",
   "execution_count": 6,
   "metadata": {
    "colab": {
     "base_uri": "https://localhost:8080/"
    },
    "executionInfo": {
     "elapsed": 461,
     "status": "ok",
     "timestamp": 1687419114344,
     "user": {
      "displayName": "Shehan DMG",
      "userId": "14911428634724278187"
     },
     "user_tz": -330
    },
    "id": "7sxzw694BMeX",
    "outputId": "6eb5913d-856f-4c60-bc23-c30ab3b9ff61"
   },
   "outputs": [
    {
     "name": "stdout",
     "output_type": "stream",
     "text": [
      "there are  11453 unique hostnames. One hostname owns averagely  4.2691871125469305  properties.\n"
     ]
    }
   ],
   "source": [
    "host_names = df['host_name'].unique()\n",
    "host_name_owned_properties_mean = len(df.index) / len(host_names)\n",
    "print(\"there are \", len(host_names), \"unique hostnames. One hostname owns averagely \",\n",
    "      host_name_owned_properties_mean, \" properties.\")"
   ]
  },
  {
   "attachments": {},
   "cell_type": "markdown",
   "metadata": {
    "id": "Sm7rJxHoDQG0"
   },
   "source": [
    "there are 11453 unique hostnames. One hostname owns averagely 4.2691871125469305 properties.\n"
   ]
  },
  {
   "attachments": {},
   "cell_type": "markdown",
   "metadata": {
    "id": "C1ffYUjFDaCV"
   },
   "source": [
    "There are 5 neighbourhood groups.\n"
   ]
  },
  {
   "cell_type": "code",
   "execution_count": 7,
   "metadata": {
    "colab": {
     "base_uri": "https://localhost:8080/"
    },
    "executionInfo": {
     "elapsed": 3,
     "status": "ok",
     "timestamp": 1687419124047,
     "user": {
      "displayName": "Shehan DMG",
      "userId": "14911428634724278187"
     },
     "user_tz": -330
    },
    "id": "gVPoSYtgDQ19",
    "outputId": "4e15b2b8-4feb-4f86-d775-47aa94de3550"
   },
   "outputs": [
    {
     "data": {
      "text/plain": [
       "5"
      ]
     },
     "execution_count": 7,
     "metadata": {},
     "output_type": "execute_result"
    }
   ],
   "source": [
    "len(df['neighbourhood_group'].unique())"
   ]
  },
  {
   "attachments": {},
   "cell_type": "markdown",
   "metadata": {
    "id": "uLpw8MnkDof9"
   },
   "source": [
    "Let's see what neighbourhood group is the most expensive.\n"
   ]
  },
  {
   "cell_type": "code",
   "execution_count": 8,
   "metadata": {
    "executionInfo": {
     "elapsed": 3,
     "status": "ok",
     "timestamp": 1687419127134,
     "user": {
      "displayName": "Shehan DMG",
      "userId": "14911428634724278187"
     },
     "user_tz": -330
    },
    "id": "vVO9h_C9EZY1"
   },
   "outputs": [],
   "source": [
    "sns.set_theme(style='ticks', palette='pastel')"
   ]
  },
  {
   "cell_type": "code",
   "execution_count": 9,
   "metadata": {
    "colab": {
     "base_uri": "https://localhost:8080/",
     "height": 475
    },
    "executionInfo": {
     "elapsed": 2323,
     "status": "ok",
     "timestamp": 1687419129455,
     "user": {
      "displayName": "Shehan DMG",
      "userId": "14911428634724278187"
     },
     "user_tz": -330
    },
    "id": "1X8MdXcHDvg9",
    "outputId": "357d41c4-b2e5-4d5f-f325-9246e267a2cb"
   },
   "outputs": [
    {
     "data": {
      "text/plain": [
       "<Axes: xlabel='neighbourhood_group', ylabel='price'>"
      ]
     },
     "execution_count": 9,
     "metadata": {},
     "output_type": "execute_result"
    },
    {
     "data": {
      "image/png": "[encoded data removed]",
      "text/plain": [
       "<Figure size 640x480 with 1 Axes>"
      ]
     },
     "metadata": {},
     "output_type": "display_data"
    }
   ],
   "source": [
    "sns.barplot(data=df, x='neighbourhood_group', y='price')"
   ]
  },
  {
   "attachments": {},
   "cell_type": "markdown",
   "metadata": {
    "id": "LQ-02wDfEfsn"
   },
   "source": [
    "Average price of properties is highest in Manhattan and lowest in Bronx.\n",
    "\n",
    "Let's see the room type.\n"
   ]
  },
  {
   "cell_type": "code",
   "execution_count": 10,
   "metadata": {
    "colab": {
     "base_uri": "https://localhost:8080/",
     "height": 475
    },
    "executionInfo": {
     "elapsed": 2266,
     "status": "ok",
     "timestamp": 1687419131706,
     "user": {
      "displayName": "Shehan DMG",
      "userId": "14911428634724278187"
     },
     "user_tz": -330
    },
    "id": "pZ1kYTCZEsRN",
    "outputId": "a5768a0d-c50d-4511-c341-da5c2f37b2e3"
   },
   "outputs": [
    {
     "data": {
      "text/plain": [
       "<Axes: xlabel='neighbourhood_group', ylabel='price'>"
      ]
     },
     "execution_count": 10,
     "metadata": {},
     "output_type": "execute_result"
    },
    {
     "data": {
      "image/png": "[encoded data removed]",
      "text/plain": [
       "<Figure size 640x480 with 1 Axes>"
      ]
     },
     "metadata": {},
     "output_type": "display_data"
    }
   ],
   "source": [
    "sns.barplot(data=df, x='neighbourhood_group', y='price', hue='room_type')"
   ]
  },
  {
   "attachments": {},
   "cell_type": "markdown",
   "metadata": {
    "id": "YsusImM3E-dX"
   },
   "source": [
    "Entire home/apt are more expensive in any neighbourhood group.\n"
   ]
  },
  {
   "cell_type": "code",
   "execution_count": 11,
   "metadata": {
    "colab": {
     "base_uri": "https://localhost:8080/",
     "height": 475
    },
    "executionInfo": {
     "elapsed": 3885,
     "status": "ok",
     "timestamp": 1687419135583,
     "user": {
      "displayName": "Shehan DMG",
      "userId": "14911428634724278187"
     },
     "user_tz": -330
    },
    "id": "ATlUFhcHFciG",
    "outputId": "19d97180-0465-4fc3-8304-6839226f5cab"
   },
   "outputs": [
    {
     "data": {
      "text/plain": [
       "<Axes: xlabel='longitude', ylabel='latitude'>"
      ]
     },
     "execution_count": 11,
     "metadata": {},
     "output_type": "execute_result"
    },
    {
     "data": {
      "image/png": "[encoded data removed]",
      "text/plain": [
       "<Figure size 640x480 with 1 Axes>"
      ]
     },
     "metadata": {},
     "output_type": "display_data"
    }
   ],
   "source": [
    "sns.scatterplot(data=df, x='longitude', y='latitude',\n",
    "                hue='neighbourhood_group')"
   ]
  },
  {
   "attachments": {},
   "cell_type": "markdown",
   "metadata": {
    "id": "tpm6ZULBF-OF"
   },
   "source": [
    "What is the most favorite room type.\n"
   ]
  },
  {
   "cell_type": "code",
   "execution_count": 12,
   "metadata": {
    "colab": {
     "base_uri": "https://localhost:8080/",
     "height": 518
    },
    "executionInfo": {
     "elapsed": 481,
     "status": "ok",
     "timestamp": 1687419136057,
     "user": {
      "displayName": "Shehan DMG",
      "userId": "14911428634724278187"
     },
     "user_tz": -330
    },
    "id": "uo1ni0EYFwD1",
    "outputId": "d6d3f14d-3451-4deb-9cd8-36f57eb6e053"
   },
   "outputs": [
    {
     "data": {
      "text/plain": [
       "<seaborn.axisgrid.FacetGrid at 0x7f955fc119f0>"
      ]
     },
     "execution_count": 12,
     "metadata": {},
     "output_type": "execute_result"
    },
    {
     "data": {
      "image/png": "[encoded data removed]",
      "text/plain": [
       "<Figure size 500x500 with 1 Axes>"
      ]
     },
     "metadata": {},
     "output_type": "display_data"
    }
   ],
   "source": [
    "sns.displot(data=df, x='room_type')"
   ]
  },
  {
   "attachments": {},
   "cell_type": "markdown",
   "metadata": {
    "id": "SlK_aO-fGZ3t"
   },
   "source": [
    "Entire home/apt is the most favorite and shared is the least favorite.\n"
   ]
  },
  {
   "cell_type": "code",
   "execution_count": 13,
   "metadata": {
    "colab": {
     "base_uri": "https://localhost:8080/",
     "height": 475
    },
    "executionInfo": {
     "elapsed": 422,
     "status": "ok",
     "timestamp": 1687419136473,
     "user": {
      "displayName": "Shehan DMG",
      "userId": "14911428634724278187"
     },
     "user_tz": -330
    },
    "id": "k8I20xU7GhY-",
    "outputId": "e1f9e64a-6562-4ef0-83cd-e94341bfbd3d"
   },
   "outputs": [
    {
     "data": {
      "text/plain": [
       "<Axes: xlabel='room_type', ylabel='price'>"
      ]
     },
     "execution_count": 13,
     "metadata": {},
     "output_type": "execute_result"
    },
    {
     "data": {
      "image/png": "[encoded data removed]",
      "text/plain": [
       "<Figure size 640x480 with 1 Axes>"
      ]
     },
     "metadata": {},
     "output_type": "display_data"
    }
   ],
   "source": [
    "sns.barplot(df, x='room_type', y='price')"
   ]
  },
  {
   "cell_type": "code",
   "execution_count": 14,
   "metadata": {
    "colab": {
     "base_uri": "https://localhost:8080/",
     "height": 475
    },
    "executionInfo": {
     "elapsed": 14885,
     "status": "ok",
     "timestamp": 1687419151829,
     "user": {
      "displayName": "Shehan DMG",
      "userId": "14911428634724278187"
     },
     "user_tz": -330
    },
    "id": "qtXFPXflG6VO",
    "outputId": "2a8392e4-3f75-44f2-9fbe-0d47030426ba"
   },
   "outputs": [
    {
     "data": {
      "text/plain": [
       "<Axes: xlabel='availability_365', ylabel='price'>"
      ]
     },
     "execution_count": 14,
     "metadata": {},
     "output_type": "execute_result"
    },
    {
     "data": {
      "image/png": "[encoded data removed]",
      "text/plain": [
       "<Figure size 640x480 with 1 Axes>"
      ]
     },
     "metadata": {},
     "output_type": "display_data"
    }
   ],
   "source": [
    "sns.barplot(df, x='availability_365', y='price')"
   ]
  },
  {
   "cell_type": "code",
   "execution_count": 15,
   "metadata": {
    "colab": {
     "base_uri": "https://localhost:8080/",
     "height": 479
    },
    "executionInfo": {
     "elapsed": 13942,
     "status": "ok",
     "timestamp": 1687419165767,
     "user": {
      "displayName": "Shehan DMG",
      "userId": "14911428634724278187"
     },
     "user_tz": -330
    },
    "id": "qwU0HLXtX0Uy",
    "outputId": "ebab1387-a21f-40aa-f155-052ccffd75fe"
   },
   "outputs": [
    {
     "data": {
      "text/plain": [
       "<Axes: xlabel='number_of_reviews', ylabel='price'>"
      ]
     },
     "execution_count": 15,
     "metadata": {},
     "output_type": "execute_result"
    },
    {
     "data": {
      "image/png": "[encoded data removed]",
      "text/plain": [
       "<Figure size 640x480 with 1 Axes>"
      ]
     },
     "metadata": {},
     "output_type": "display_data"
    }
   ],
   "source": [
    "sns.barplot(df, x='number_of_reviews', y='price')"
   ]
  },
  {
   "attachments": {},
   "cell_type": "markdown",
   "metadata": {
    "id": "DHM2D6n8JKOm"
   },
   "source": [
    "Now let's see the price distribution\n"
   ]
  },
  {
   "cell_type": "code",
   "execution_count": 16,
   "metadata": {
    "colab": {
     "base_uri": "https://localhost:8080/",
     "height": 475
    },
    "executionInfo": {
     "elapsed": 837,
     "status": "ok",
     "timestamp": 1687419166597,
     "user": {
      "displayName": "Shehan DMG",
      "userId": "14911428634724278187"
     },
     "user_tz": -330
    },
    "id": "ub8FGJGbQRr4",
    "outputId": "de9102b3-d2c4-4cc1-a4fa-516b732e24f0"
   },
   "outputs": [
    {
     "data": {
      "text/plain": [
       "<Axes: xlabel='price'>"
      ]
     },
     "execution_count": 16,
     "metadata": {},
     "output_type": "execute_result"
    },
    {
     "data": {
      "image/png": "[encoded data removed]",
      "text/plain": [
       "<Figure size 640x480 with 1 Axes>"
      ]
     },
     "metadata": {},
     "output_type": "display_data"
    }
   ],
   "source": [
    "sns.boxplot(df, x='price')"
   ]
  },
  {
   "cell_type": "code",
   "execution_count": 17,
   "metadata": {
    "colab": {
     "base_uri": "https://localhost:8080/"
    },
    "executionInfo": {
     "elapsed": 7,
     "status": "ok",
     "timestamp": 1687419166598,
     "user": {
      "displayName": "Shehan DMG",
      "userId": "14911428634724278187"
     },
     "user_tz": -330
    },
    "id": "W8SFvXELQUl3",
    "outputId": "aa57954d-a634-4d30-9e80-ba5c592b6acf"
   },
   "outputs": [
    {
     "name": "stdout",
     "output_type": "stream",
     "text": [
      "highest value for price is  10000 . cheapest one is  0\n",
      "price mean/average is  152.7206871868289 mode is  0    100\n",
      "Name: price, dtype: int64 median is  106.0\n",
      "standard deviation is  240.15416974718758\n"
     ]
    }
   ],
   "source": [
    "print('highest value for price is ',\n",
    "      df['price'].max(), \". cheapest one is \", df['price'].min())\n",
    "print('price mean/average is ', df['price'].mean(), \"mode is \",\n",
    "      df['price'].mode(), \"median is \", df['price'].median())\n",
    "print('standard deviation is ', df['price'].std())"
   ]
  },
  {
   "attachments": {},
   "cell_type": "markdown",
   "metadata": {
    "id": "_buhvOaK_Wdv"
   },
   "source": [
    "Dots are the outliers.\n"
   ]
  },
  {
   "attachments": {},
   "cell_type": "markdown",
   "metadata": {
    "id": "5IxKztxORNm_"
   },
   "source": [
    "highest value for price is 10000 . cheapest one is 0\n",
    "price mean/average is 152.7206871868289 mode is 0 100\n",
    "Name: price, dtype: int64 median is 106.0\n",
    "standard deviation is 240.15416974718758\n"
   ]
  },
  {
   "cell_type": "code",
   "execution_count": 18,
   "metadata": {
    "colab": {
     "base_uri": "https://localhost:8080/",
     "height": 518
    },
    "executionInfo": {
     "elapsed": 5886,
     "status": "ok",
     "timestamp": 1687419172479,
     "user": {
      "displayName": "Shehan DMG",
      "userId": "14911428634724278187"
     },
     "user_tz": -330
    },
    "id": "MPHA2rhLRRn3",
    "outputId": "0a3c1502-8a11-4973-efdf-897c326dbddd"
   },
   "outputs": [
    {
     "data": {
      "text/plain": [
       "<seaborn.axisgrid.FacetGrid at 0x7f94d1ea1de0>"
      ]
     },
     "execution_count": 18,
     "metadata": {},
     "output_type": "execute_result"
    },
    {
     "data": {
      "image/png": "[encoded data removed]",
      "text/plain": [
       "<Figure size 500x500 with 1 Axes>"
      ]
     },
     "metadata": {},
     "output_type": "display_data"
    }
   ],
   "source": [
    "sns.displot(df, x='price', kde=True)"
   ]
  },
  {
   "cell_type": "code",
   "execution_count": 19,
   "metadata": {
    "colab": {
     "base_uri": "https://localhost:8080/"
    },
    "executionInfo": {
     "elapsed": 16,
     "status": "ok",
     "timestamp": 1687419172479,
     "user": {
      "displayName": "Shehan DMG",
      "userId": "14911428634724278187"
     },
     "user_tz": -330
    },
    "id": "ub_udrRiRgMv",
    "outputId": "5165c9a4-e9d6-40b0-9f5c-57bb0a957c28"
   },
   "outputs": [
    {
     "name": "stdout",
     "output_type": "stream",
     "text": [
      "in price distribution skew is  19.118938995046033 . kurtosis is  585.6728788988286\n"
     ]
    }
   ],
   "source": [
    "print(\"in price distribution skew is \",\n",
    "      df['price'].skew(), \". kurtosis is \", df['price'].kurtosis())"
   ]
  },
  {
   "attachments": {},
   "cell_type": "markdown",
   "metadata": {
    "id": "n8MZGhz1Rxf3"
   },
   "source": [
    "in price distribution skew is 19.118938995046033 . kurtosis is 585.6728788988286\n",
    "\n",
    "skew and kurtosis is very high. high skew mean data is not evenly distributed. high kurtosis means there's lot of outliers.\n",
    "\n",
    "If we look closely we can see average rental price is 152$ there are some unusual prices like 10000. This may be caused by wrong entry data, data processing errors, and natural variances.\n",
    "\n",
    "\\*wrong entry data is very straightforward. this means error in entering data.\n",
    "\n",
    "\\*data processing errors can happen in the process of data modeling and manipulation after collecting data.\n",
    "\n",
    "\\*natural variances are the anormalies in real world situations. as a example if we are analyzing exam marks data in a class/school some student may get high marks wheather the exam is hard or easy. They are anormalies.\n",
    "\n",
    "We can trim, cap, or use other methods or in cases like fraud detection these outliers are used to detect fraud.\n"
   ]
  },
  {
   "attachments": {},
   "cell_type": "markdown",
   "metadata": {
    "id": "i9ZKghZLWE0p"
   },
   "source": [
    "## Cleaning data\n",
    "\n",
    "1.remove unrelated columns\n",
    "\n",
    "2.check and remove duplicates\n",
    "\n",
    "3.check for null values and treat them\n",
    "\n",
    "4.treat outliers\n"
   ]
  },
  {
   "attachments": {},
   "cell_type": "markdown",
   "metadata": {
    "id": "shbwTqeJWgg5"
   },
   "source": [
    "### remove unnecessary columns\n"
   ]
  },
  {
   "cell_type": "code",
   "execution_count": 20,
   "metadata": {
    "colab": {
     "base_uri": "https://localhost:8080/",
     "height": 461
    },
    "executionInfo": {
     "elapsed": 13,
     "status": "ok",
     "timestamp": 1687419172480,
     "user": {
      "displayName": "Shehan DMG",
      "userId": "14911428634724278187"
     },
     "user_tz": -330
    },
    "id": "-LHPc2prV41B",
    "outputId": "9ac6b71d-5e5c-4e6c-be5d-da503be665dd"
   },
   "outputs": [
    {
     "data": {
      "text/html": [
       "\n",
       "  <div id=\"df-4eff568d-23de-45c2-b1e7-4f502eb50635\">\n",
       "    <div class=\"colab-df-container\">\n",
       "      <div>\n",
       "<style scoped>\n",
       "    .dataframe tbody tr th:only-of-type {\n",
       "        vertical-align: middle;\n",
       "    }\n",
       "\n",
       "    .dataframe tbody tr th {\n",
       "        vertical-align: top;\n",
       "    }\n",
       "\n",
       "    .dataframe thead th {\n",
       "        text-align: right;\n",
       "    }\n",
       "</style>\n",
       "<table border=\"1\" class=\"dataframe\">\n",
       "  <thead>\n",
       "    <tr style=\"text-align: right;\">\n",
       "      <th></th>\n",
       "      <th>id</th>\n",
       "      <th>name</th>\n",
       "      <th>host_id</th>\n",
       "      <th>host_name</th>\n",
       "      <th>neighbourhood_group</th>\n",
       "      <th>neighbourhood</th>\n",
       "      <th>latitude</th>\n",
       "      <th>longitude</th>\n",
       "      <th>room_type</th>\n",
       "      <th>price</th>\n",
       "      <th>minimum_nights</th>\n",
       "      <th>number_of_reviews</th>\n",
       "      <th>last_review</th>\n",
       "      <th>reviews_per_month</th>\n",
       "      <th>calculated_host_listings_count</th>\n",
       "      <th>availability_365</th>\n",
       "    </tr>\n",
       "  </thead>\n",
       "  <tbody>\n",
       "    <tr>\n",
       "      <th>0</th>\n",
       "      <td>2539</td>\n",
       "      <td>Clean &amp; quiet apt home by the park</td>\n",
       "      <td>2787</td>\n",
       "      <td>John</td>\n",
       "      <td>Brooklyn</td>\n",
       "      <td>Kensington</td>\n",
       "      <td>40.64749</td>\n",
       "      <td>-73.97237</td>\n",
       "      <td>Private room</td>\n",
       "      <td>149</td>\n",
       "      <td>1</td>\n",
       "      <td>9</td>\n",
       "      <td>2018-10-19</td>\n",
       "      <td>0.21</td>\n",
       "      <td>6</td>\n",
       "      <td>365</td>\n",
       "    </tr>\n",
       "    <tr>\n",
       "      <th>1</th>\n",
       "      <td>2595</td>\n",
       "      <td>Skylit Midtown Castle</td>\n",
       "      <td>2845</td>\n",
       "      <td>Jennifer</td>\n",
       "      <td>Manhattan</td>\n",
       "      <td>Midtown</td>\n",
       "      <td>40.75362</td>\n",
       "      <td>-73.98377</td>\n",
       "      <td>Entire home/apt</td>\n",
       "      <td>225</td>\n",
       "      <td>1</td>\n",
       "      <td>45</td>\n",
       "      <td>2019-05-21</td>\n",
       "      <td>0.38</td>\n",
       "      <td>2</td>\n",
       "      <td>355</td>\n",
       "    </tr>\n",
       "    <tr>\n",
       "      <th>2</th>\n",
       "      <td>3647</td>\n",
       "      <td>THE VILLAGE OF HARLEM....NEW YORK !</td>\n",
       "      <td>4632</td>\n",
       "      <td>Elisabeth</td>\n",
       "      <td>Manhattan</td>\n",
       "      <td>Harlem</td>\n",
       "      <td>40.80902</td>\n",
       "      <td>-73.94190</td>\n",
       "      <td>Private room</td>\n",
       "      <td>150</td>\n",
       "      <td>3</td>\n",
       "      <td>0</td>\n",
       "      <td>NaN</td>\n",
       "      <td>NaN</td>\n",
       "      <td>1</td>\n",
       "      <td>365</td>\n",
       "    </tr>\n",
       "    <tr>\n",
       "      <th>3</th>\n",
       "      <td>3831</td>\n",
       "      <td>Cozy Entire Floor of Brownstone</td>\n",
       "      <td>4869</td>\n",
       "      <td>LisaRoxanne</td>\n",
       "      <td>Brooklyn</td>\n",
       "      <td>Clinton Hill</td>\n",
       "      <td>40.68514</td>\n",
       "      <td>-73.95976</td>\n",
       "      <td>Entire home/apt</td>\n",
       "      <td>89</td>\n",
       "      <td>1</td>\n",
       "      <td>270</td>\n",
       "      <td>2019-07-05</td>\n",
       "      <td>4.64</td>\n",
       "      <td>1</td>\n",
       "      <td>194</td>\n",
       "    </tr>\n",
       "    <tr>\n",
       "      <th>4</th>\n",
       "      <td>5022</td>\n",
       "      <td>Entire Apt: Spacious Studio/Loft by central park</td>\n",
       "      <td>7192</td>\n",
       "      <td>Laura</td>\n",
       "      <td>Manhattan</td>\n",
       "      <td>East Harlem</td>\n",
       "      <td>40.79851</td>\n",
       "      <td>-73.94399</td>\n",
       "      <td>Entire home/apt</td>\n",
       "      <td>80</td>\n",
       "      <td>10</td>\n",
       "      <td>9</td>\n",
       "      <td>2018-11-19</td>\n",
       "      <td>0.10</td>\n",
       "      <td>1</td>\n",
       "      <td>0</td>\n",
       "    </tr>\n",
       "  </tbody>\n",
       "</table>\n",
       "</div>\n",
       "      <button class=\"colab-df-convert\" onclick=\"convertToInteractive('df-4eff568d-23de-45c2-b1e7-4f502eb50635')\"\n",
       "              title=\"Convert this dataframe to an interactive table.\"\n",
       "              style=\"display:none;\">\n",
       "        \n",
       "  <svg xmlns=\"http://www.w3.org/2000/svg\" height=\"24px\"viewBox=\"0 0 24 24\"\n",
       "       width=\"24px\">\n",
       "    <path d=\"M0 0h24v24H0V0z\" fill=\"none\"/>\n",
       "    <path d=\"M18.56 5.44l.94 2.06.94-2.06 2.06-.94-2.06-.94-.94-2.06-.94 2.06-2.06.94zm-11 1L8.5 8.5l.94-2.06 2.06-.94-2.06-.94L8.5 2.5l-.94 2.06-2.06.94zm10 10l.94 2.06.94-2.06 2.06-.94-2.06-.94-.94-2.06-.94 2.06-2.06.94z\"/><path d=\"M17.41 7.96l-1.37-1.37c-.4-.4-.92-.59-1.43-.59-.52 0-1.04.2-1.43.59L10.3 9.45l-7.72 7.72c-.78.78-.78 2.05 0 2.83L4 21.41c.39.39.9.59 1.41.59.51 0 1.02-.2 1.41-.59l7.78-7.78 2.81-2.81c.8-.78.8-2.07 0-2.86zM5.41 20L4 18.59l7.72-7.72 1.47 1.35L5.41 20z\"/>\n",
       "  </svg>\n",
       "      </button>\n",
       "      \n",
       "  <style>\n",
       "    .colab-df-container {\n",
       "      display:flex;\n",
       "      flex-wrap:wrap;\n",
       "      gap: 12px;\n",
       "    }\n",
       "\n",
       "    .colab-df-convert {\n",
       "      background-color: #E8F0FE;\n",
       "      border: none;\n",
       "      border-radius: 50%;\n",
       "      cursor: pointer;\n",
       "      display: none;\n",
       "      fill: #1967D2;\n",
       "      height: 32px;\n",
       "      padding: 0 0 0 0;\n",
       "      width: 32px;\n",
       "    }\n",
       "\n",
       "    .colab-df-convert:hover {\n",
       "      background-color: #E2EBFA;\n",
       "      box-shadow: 0px 1px 2px rgba(60, 64, 67, 0.3), 0px 1px 3px 1px rgba(60, 64, 67, 0.15);\n",
       "      fill: #174EA6;\n",
       "    }\n",
       "\n",
       "    [theme=dark] .colab-df-convert {\n",
       "      background-color: #3B4455;\n",
       "      fill: #D2E3FC;\n",
       "    }\n",
       "\n",
       "    [theme=dark] .colab-df-convert:hover {\n",
       "      background-color: #434B5C;\n",
       "      box-shadow: 0px 1px 3px 1px rgba(0, 0, 0, 0.15);\n",
       "      filter: drop-shadow(0px 1px 2px rgba(0, 0, 0, 0.3));\n",
       "      fill: #FFFFFF;\n",
       "    }\n",
       "  </style>\n",
       "\n",
       "      <script>\n",
       "        const buttonEl =\n",
       "          document.querySelector('#df-4eff568d-23de-45c2-b1e7-4f502eb50635 button.colab-df-convert');\n",
       "        buttonEl.style.display =\n",
       "          google.colab.kernel.accessAllowed ? 'block' : 'none';\n",
       "\n",
       "        async function convertToInteractive(key) {\n",
       "          const element = document.querySelector('#df-4eff568d-23de-45c2-b1e7-4f502eb50635');\n",
       "          const dataTable =\n",
       "            await google.colab.kernel.invokeFunction('convertToInteractive',\n",
       "                                                     [key], {});\n",
       "          if (!dataTable) return;\n",
       "\n",
       "          const docLinkHtml = 'Like what you see? Visit the ' +\n",
       "            '<a target=\"_blank\" href=https://colab.research.google.com/notebooks/data_table.ipynb>data table notebook</a>'\n",
       "            + ' to learn more about interactive tables.';\n",
       "          element.innerHTML = '';\n",
       "          dataTable['output_type'] = 'display_data';\n",
       "          await google.colab.output.renderOutput(dataTable, element);\n",
       "          const docLink = document.createElement('div');\n",
       "          docLink.innerHTML = docLinkHtml;\n",
       "          element.appendChild(docLink);\n",
       "        }\n",
       "      </script>\n",
       "    </div>\n",
       "  </div>\n",
       "  "
      ],
      "text/plain": [
       "     id                                              name  host_id  \\\n",
       "0  2539                Clean & quiet apt home by the park     2787   \n",
       "1  2595                             Skylit Midtown Castle     2845   \n",
       "2  3647               THE VILLAGE OF HARLEM....NEW YORK !     4632   \n",
       "3  3831                   Cozy Entire Floor of Brownstone     4869   \n",
       "4  5022  Entire Apt: Spacious Studio/Loft by central park     7192   \n",
       "\n",
       "     host_name neighbourhood_group neighbourhood  latitude  longitude  \\\n",
       "0         John            Brooklyn    Kensington  40.64749  -73.97237   \n",
       "1     Jennifer           Manhattan       Midtown  40.75362  -73.98377   \n",
       "2    Elisabeth           Manhattan        Harlem  40.80902  -73.94190   \n",
       "3  LisaRoxanne            Brooklyn  Clinton Hill  40.68514  -73.95976   \n",
       "4        Laura           Manhattan   East Harlem  40.79851  -73.94399   \n",
       "\n",
       "         room_type  price  minimum_nights  number_of_reviews last_review  \\\n",
       "0     Private room    149               1                  9  2018-10-19   \n",
       "1  Entire home/apt    225               1                 45  2019-05-21   \n",
       "2     Private room    150               3                  0         NaN   \n",
       "3  Entire home/apt     89               1                270  2019-07-05   \n",
       "4  Entire home/apt     80              10                  9  2018-11-19   \n",
       "\n",
       "   reviews_per_month  calculated_host_listings_count  availability_365  \n",
       "0               0.21                               6               365  \n",
       "1               0.38                               2               355  \n",
       "2                NaN                               1               365  \n",
       "3               4.64                               1               194  \n",
       "4               0.10                               1                 0  "
      ]
     },
     "execution_count": 20,
     "metadata": {},
     "output_type": "execute_result"
    }
   ],
   "source": [
    "df.head()"
   ]
  },
  {
   "attachments": {},
   "cell_type": "markdown",
   "metadata": {
    "id": "siDNjssfWwdI"
   },
   "source": [
    "id- id doesn't affect the price. That's clear. we can remove that.\n",
    "\n",
    "name- doesn't affect the price.\n",
    "\n",
    "host_id - doesn't affect the price.\n",
    "\n",
    "host_name - doesn't affect the price.\n",
    "\n",
    "last_review - doesn't affect the price.\n",
    "\n",
    "last_review - doesn't affect the price.\n",
    "\n",
    "reviews_per_month - doesn't affect the price.\n",
    "\n",
    "calculated_host_listings_count - doesn't affect the price.\n"
   ]
  },
  {
   "cell_type": "code",
   "execution_count": 21,
   "metadata": {
    "colab": {
     "base_uri": "https://localhost:8080/",
     "height": 206
    },
    "executionInfo": {
     "elapsed": 11,
     "status": "ok",
     "timestamp": 1687419172480,
     "user": {
      "displayName": "Shehan DMG",
      "userId": "14911428634724278187"
     },
     "user_tz": -330
    },
    "id": "4B5VhmjnYR5I",
    "outputId": "46b85908-af97-4c66-f3dc-7e9e8d3818ba"
   },
   "outputs": [
    {
     "data": {
      "text/html": [
       "\n",
       "  <div id=\"df-45e30417-b1da-4f82-a050-27d21bc59278\">\n",
       "    <div class=\"colab-df-container\">\n",
       "      <div>\n",
       "<style scoped>\n",
       "    .dataframe tbody tr th:only-of-type {\n",
       "        vertical-align: middle;\n",
       "    }\n",
       "\n",
       "    .dataframe tbody tr th {\n",
       "        vertical-align: top;\n",
       "    }\n",
       "\n",
       "    .dataframe thead th {\n",
       "        text-align: right;\n",
       "    }\n",
       "</style>\n",
       "<table border=\"1\" class=\"dataframe\">\n",
       "  <thead>\n",
       "    <tr style=\"text-align: right;\">\n",
       "      <th></th>\n",
       "      <th>neighbourhood_group</th>\n",
       "      <th>neighbourhood</th>\n",
       "      <th>room_type</th>\n",
       "      <th>price</th>\n",
       "      <th>minimum_nights</th>\n",
       "      <th>number_of_reviews</th>\n",
       "      <th>availability_365</th>\n",
       "    </tr>\n",
       "  </thead>\n",
       "  <tbody>\n",
       "    <tr>\n",
       "      <th>0</th>\n",
       "      <td>Brooklyn</td>\n",
       "      <td>Kensington</td>\n",
       "      <td>Private room</td>\n",
       "      <td>149</td>\n",
       "      <td>1</td>\n",
       "      <td>9</td>\n",
       "      <td>365</td>\n",
       "    </tr>\n",
       "    <tr>\n",
       "      <th>1</th>\n",
       "      <td>Manhattan</td>\n",
       "      <td>Midtown</td>\n",
       "      <td>Entire home/apt</td>\n",
       "      <td>225</td>\n",
       "      <td>1</td>\n",
       "      <td>45</td>\n",
       "      <td>355</td>\n",
       "    </tr>\n",
       "    <tr>\n",
       "      <th>2</th>\n",
       "      <td>Manhattan</td>\n",
       "      <td>Harlem</td>\n",
       "      <td>Private room</td>\n",
       "      <td>150</td>\n",
       "      <td>3</td>\n",
       "      <td>0</td>\n",
       "      <td>365</td>\n",
       "    </tr>\n",
       "    <tr>\n",
       "      <th>3</th>\n",
       "      <td>Brooklyn</td>\n",
       "      <td>Clinton Hill</td>\n",
       "      <td>Entire home/apt</td>\n",
       "      <td>89</td>\n",
       "      <td>1</td>\n",
       "      <td>270</td>\n",
       "      <td>194</td>\n",
       "    </tr>\n",
       "    <tr>\n",
       "      <th>4</th>\n",
       "      <td>Manhattan</td>\n",
       "      <td>East Harlem</td>\n",
       "      <td>Entire home/apt</td>\n",
       "      <td>80</td>\n",
       "      <td>10</td>\n",
       "      <td>9</td>\n",
       "      <td>0</td>\n",
       "    </tr>\n",
       "  </tbody>\n",
       "</table>\n",
       "</div>\n",
       "      <button class=\"colab-df-convert\" onclick=\"convertToInteractive('df-45e30417-b1da-4f82-a050-27d21bc59278')\"\n",
       "              title=\"Convert this dataframe to an interactive table.\"\n",
       "              style=\"display:none;\">\n",
       "        \n",
       "  <svg xmlns=\"http://www.w3.org/2000/svg\" height=\"24px\"viewBox=\"0 0 24 24\"\n",
       "       width=\"24px\">\n",
       "    <path d=\"M0 0h24v24H0V0z\" fill=\"none\"/>\n",
       "    <path d=\"M18.56 5.44l.94 2.06.94-2.06 2.06-.94-2.06-.94-.94-2.06-.94 2.06-2.06.94zm-11 1L8.5 8.5l.94-2.06 2.06-.94-2.06-.94L8.5 2.5l-.94 2.06-2.06.94zm10 10l.94 2.06.94-2.06 2.06-.94-2.06-.94-.94-2.06-.94 2.06-2.06.94z\"/><path d=\"M17.41 7.96l-1.37-1.37c-.4-.4-.92-.59-1.43-.59-.52 0-1.04.2-1.43.59L10.3 9.45l-7.72 7.72c-.78.78-.78 2.05 0 2.83L4 21.41c.39.39.9.59 1.41.59.51 0 1.02-.2 1.41-.59l7.78-7.78 2.81-2.81c.8-.78.8-2.07 0-2.86zM5.41 20L4 18.59l7.72-7.72 1.47 1.35L5.41 20z\"/>\n",
       "  </svg>\n",
       "      </button>\n",
       "      \n",
       "  <style>\n",
       "    .colab-df-container {\n",
       "      display:flex;\n",
       "      flex-wrap:wrap;\n",
       "      gap: 12px;\n",
       "    }\n",
       "\n",
       "    .colab-df-convert {\n",
       "      background-color: #E8F0FE;\n",
       "      border: none;\n",
       "      border-radius: 50%;\n",
       "      cursor: pointer;\n",
       "      display: none;\n",
       "      fill: #1967D2;\n",
       "      height: 32px;\n",
       "      padding: 0 0 0 0;\n",
       "      width: 32px;\n",
       "    }\n",
       "\n",
       "    .colab-df-convert:hover {\n",
       "      background-color: #E2EBFA;\n",
       "      box-shadow: 0px 1px 2px rgba(60, 64, 67, 0.3), 0px 1px 3px 1px rgba(60, 64, 67, 0.15);\n",
       "      fill: #174EA6;\n",
       "    }\n",
       "\n",
       "    [theme=dark] .colab-df-convert {\n",
       "      background-color: #3B4455;\n",
       "      fill: #D2E3FC;\n",
       "    }\n",
       "\n",
       "    [theme=dark] .colab-df-convert:hover {\n",
       "      background-color: #434B5C;\n",
       "      box-shadow: 0px 1px 3px 1px rgba(0, 0, 0, 0.15);\n",
       "      filter: drop-shadow(0px 1px 2px rgba(0, 0, 0, 0.3));\n",
       "      fill: #FFFFFF;\n",
       "    }\n",
       "  </style>\n",
       "\n",
       "      <script>\n",
       "        const buttonEl =\n",
       "          document.querySelector('#df-45e30417-b1da-4f82-a050-27d21bc59278 button.colab-df-convert');\n",
       "        buttonEl.style.display =\n",
       "          google.colab.kernel.accessAllowed ? 'block' : 'none';\n",
       "\n",
       "        async function convertToInteractive(key) {\n",
       "          const element = document.querySelector('#df-45e30417-b1da-4f82-a050-27d21bc59278');\n",
       "          const dataTable =\n",
       "            await google.colab.kernel.invokeFunction('convertToInteractive',\n",
       "                                                     [key], {});\n",
       "          if (!dataTable) return;\n",
       "\n",
       "          const docLinkHtml = 'Like what you see? Visit the ' +\n",
       "            '<a target=\"_blank\" href=https://colab.research.google.com/notebooks/data_table.ipynb>data table notebook</a>'\n",
       "            + ' to learn more about interactive tables.';\n",
       "          element.innerHTML = '';\n",
       "          dataTable['output_type'] = 'display_data';\n",
       "          await google.colab.output.renderOutput(dataTable, element);\n",
       "          const docLink = document.createElement('div');\n",
       "          docLink.innerHTML = docLinkHtml;\n",
       "          element.appendChild(docLink);\n",
       "        }\n",
       "      </script>\n",
       "    </div>\n",
       "  </div>\n",
       "  "
      ],
      "text/plain": [
       "  neighbourhood_group neighbourhood        room_type  price  minimum_nights  \\\n",
       "0            Brooklyn    Kensington     Private room    149               1   \n",
       "1           Manhattan       Midtown  Entire home/apt    225               1   \n",
       "2           Manhattan        Harlem     Private room    150               3   \n",
       "3            Brooklyn  Clinton Hill  Entire home/apt     89               1   \n",
       "4           Manhattan   East Harlem  Entire home/apt     80              10   \n",
       "\n",
       "   number_of_reviews  availability_365  \n",
       "0                  9               365  \n",
       "1                 45               355  \n",
       "2                  0               365  \n",
       "3                270               194  \n",
       "4                  9                 0  "
      ]
     },
     "execution_count": 21,
     "metadata": {},
     "output_type": "execute_result"
    }
   ],
   "source": [
    "dfc = df.drop(columns=['id', 'name', 'host_id', 'host_name', 'last_review', 'reviews_per_month',\n",
    "              'calculated_host_listings_count', 'latitude', 'longitude', 'number_of_reviews', 'availability_365'])\n",
    "dfc.head()"
   ]
  },
  {
   "attachments": {},
   "cell_type": "markdown",
   "metadata": {
    "id": "LGLumKQ7YvAR"
   },
   "source": [
    "Removed these 'id','name','host_id','host_name','last_review','reviews_per_month','calculated_host_listings_count','latitude','longitude' columns\n"
   ]
  },
  {
   "attachments": {},
   "cell_type": "markdown",
   "metadata": {
    "id": "6YbmjrgnZFDo"
   },
   "source": [
    "### Check and remove duplicates\n"
   ]
  },
  {
   "cell_type": "code",
   "execution_count": 22,
   "metadata": {
    "colab": {
     "base_uri": "https://localhost:8080/"
    },
    "executionInfo": {
     "elapsed": 2,
     "status": "ok",
     "timestamp": 1687419175369,
     "user": {
      "displayName": "Shehan DMG",
      "userId": "14911428634724278187"
     },
     "user_tz": -330
    },
    "id": "REvKvXHNYrBg",
    "outputId": "a52b3dfa-e973-44d0-9cad-02b2364790e3"
   },
   "outputs": [
    {
     "data": {
      "text/plain": [
       "True"
      ]
     },
     "execution_count": 22,
     "metadata": {},
     "output_type": "execute_result"
    }
   ],
   "source": [
    "dfc.duplicated().values.any()"
   ]
  },
  {
   "attachments": {},
   "cell_type": "markdown",
   "metadata": {
    "id": "eC8vxDkIZVSY"
   },
   "source": [
    "No duplicates in the dataset.\n"
   ]
  },
  {
   "attachments": {},
   "cell_type": "markdown",
   "metadata": {
    "id": "jlo_4PZMZaio"
   },
   "source": [
    "### Wrong data clean\n"
   ]
  },
  {
   "cell_type": "code",
   "execution_count": 23,
   "metadata": {
    "colab": {
     "base_uri": "https://localhost:8080/"
    },
    "executionInfo": {
     "elapsed": 4,
     "status": "ok",
     "timestamp": 1687419177006,
     "user": {
      "displayName": "Shehan DMG",
      "userId": "14911428634724278187"
     },
     "user_tz": -330
    },
    "id": "hc8e4fHsZUK8",
    "outputId": "20f74f59-1053-49cc-9279-a7d89bf5b3fb"
   },
   "outputs": [
    {
     "data": {
      "text/plain": [
       "False"
      ]
     },
     "execution_count": 23,
     "metadata": {},
     "output_type": "execute_result"
    }
   ],
   "source": [
    "dfc.isnull().values.any()"
   ]
  },
  {
   "cell_type": "code",
   "execution_count": 24,
   "metadata": {
    "colab": {
     "base_uri": "https://localhost:8080/"
    },
    "executionInfo": {
     "elapsed": 409,
     "status": "ok",
     "timestamp": 1687419178021,
     "user": {
      "displayName": "Shehan DMG",
      "userId": "14911428634724278187"
     },
     "user_tz": -330
    },
    "id": "TDLJcxNUZwBg",
    "outputId": "f77ab801-6dc0-42e1-f8ad-b4eba2d07ec9"
   },
   "outputs": [
    {
     "data": {
      "text/plain": [
       "False"
      ]
     },
     "execution_count": 24,
     "metadata": {},
     "output_type": "execute_result"
    }
   ],
   "source": [
    "dfc.isna().values.any()"
   ]
  },
  {
   "attachments": {},
   "cell_type": "markdown",
   "metadata": {
    "id": "OS2TrCCfZySg"
   },
   "source": [
    "No invalid inputs to clean.\n"
   ]
  },
  {
   "attachments": {},
   "cell_type": "markdown",
   "metadata": {
    "id": "Sr9WbMyPaJOw"
   },
   "source": [
    "### treat outliers\n"
   ]
  },
  {
   "cell_type": "code",
   "execution_count": 25,
   "metadata": {
    "colab": {
     "base_uri": "https://localhost:8080/"
    },
    "executionInfo": {
     "elapsed": 407,
     "status": "ok",
     "timestamp": 1687419180935,
     "user": {
      "displayName": "Shehan DMG",
      "userId": "14911428634724278187"
     },
     "user_tz": -330
    },
    "id": "e_v2mZh7Z1To",
    "outputId": "07c1c813-b271-47d8-d1f8-5419d557bf32"
   },
   "outputs": [
    {
     "data": {
      "text/plain": [
       "(2972, 7)"
      ]
     },
     "execution_count": 25,
     "metadata": {},
     "output_type": "execute_result"
    }
   ],
   "source": [
    "price_skew_before = dfc['price'].skew()\n",
    "price_kurtosis_before = dfc['price'].kurtosis()\n",
    "\n",
    "# make a copy of dataset\n",
    "new_df = dfc.copy()\n",
    "\n",
    "p25 = new_df['price'].quantile(0.25)\n",
    "p75 = new_df['price'].quantile(0.75)\n",
    "iqr = p75 - p25\n",
    "\n",
    "# limits\n",
    "price_lower_limit = p25 - 1.5 * iqr\n",
    "price_upper_limit = p75 + 1.5 * iqr\n",
    "\n",
    "# price lower limit is a negative value. we will set it to 0\n",
    "price_lower_limit = 0\n",
    "\n",
    "# get trimmed dataset\n",
    "new_df = new_df[new_df['price'] > price_upper_limit]\n",
    "new_df.shape"
   ]
  },
  {
   "attachments": {},
   "cell_type": "markdown",
   "metadata": {
    "id": "rsMpoV8zcLQJ"
   },
   "source": [
    "There's 2972 records of dataset. We can either remove them or cap them. In this case we will set the values above the upper limit to upper limit.\n"
   ]
  },
  {
   "cell_type": "code",
   "execution_count": 26,
   "metadata": {
    "colab": {
     "base_uri": "https://localhost:8080/",
     "height": 396
    },
    "executionInfo": {
     "elapsed": 475,
     "status": "ok",
     "timestamp": 1687419182474,
     "user": {
      "displayName": "Shehan DMG",
      "userId": "14911428634724278187"
     },
     "user_tz": -330
    },
    "id": "xNwEHFA8chrA",
    "outputId": "b251dec0-487c-427c-f9df-01dea26e04b9"
   },
   "outputs": [
    {
     "data": {
      "image/png": "[encoded data removed]",
      "text/plain": [
       "<Figure size 800x400 with 2 Axes>"
      ]
     },
     "metadata": {},
     "output_type": "display_data"
    }
   ],
   "source": [
    "df_cap = dfc.copy()\n",
    "\n",
    "df_cap['price'] = np.where(\n",
    "    df_cap['price'] < price_lower_limit,\n",
    "    price_lower_limit,\n",
    "    np.where(\n",
    "        df_cap['price'] > price_upper_limit,\n",
    "        price_upper_limit,\n",
    "        df_cap['price']\n",
    "    )\n",
    ")\n",
    "\n",
    "plt.figure(figsize=(8, 4))\n",
    "plt.subplot(1, 2, 1)\n",
    "sns.boxplot(dfc, x='price')\n",
    "plt.subplot(1, 2, 2)\n",
    "sns.boxplot(df_cap, x='price')\n",
    "plt.show()"
   ]
  },
  {
   "attachments": {},
   "cell_type": "markdown",
   "metadata": {
    "id": "tIt8Kl-Fdnra"
   },
   "source": [
    "Let's see the skew and kurtosis values before and after.\n"
   ]
  },
  {
   "cell_type": "code",
   "execution_count": 27,
   "metadata": {
    "colab": {
     "base_uri": "https://localhost:8080/"
    },
    "executionInfo": {
     "elapsed": 2252,
     "status": "ok",
     "timestamp": 1687419187254,
     "user": {
      "displayName": "Shehan DMG",
      "userId": "14911428634724278187"
     },
     "user_tz": -330
    },
    "id": "j845gb8odr65",
    "outputId": "bf7a1703-3fe2-4c3a-d598-553daf9da627"
   },
   "outputs": [
    {
     "name": "stdout",
     "output_type": "stream",
     "text": [
      "before skew is  19.118938995046033 after cleaning outliers skew is  1.0227703235026613\n",
      "before kurtosis is  585.6728788988286 after cleaning outliers kurtosis is  0.15710037427136436\n"
     ]
    }
   ],
   "source": [
    "print(\"before skew is \", dfc['price'].skew(\n",
    "), \"after cleaning outliers skew is \", df_cap['price'].skew())\n",
    "print(\"before kurtosis is \", dfc['price'].kurtosis(\n",
    "), \"after cleaning outliers kurtosis is \", df_cap['price'].kurtosis())"
   ]
  },
  {
   "attachments": {},
   "cell_type": "markdown",
   "metadata": {
    "id": "b793PfBzeDA4"
   },
   "source": [
    "before skew is 19.118938995046033 after cleaning outliers skew is 1.0227703235026613\n",
    "before kurtosis is 585.6728788988286 after cleaning outliers kurtosis is 0.15710037427136436\n"
   ]
  },
  {
   "cell_type": "code",
   "execution_count": 28,
   "metadata": {
    "colab": {
     "base_uri": "https://localhost:8080/",
     "height": 518
    },
    "executionInfo": {
     "elapsed": 1215,
     "status": "ok",
     "timestamp": 1687419191475,
     "user": {
      "displayName": "Shehan DMG",
      "userId": "14911428634724278187"
     },
     "user_tz": -330
    },
    "id": "wf3AnaUQeEVo",
    "outputId": "0e1bb2a9-7837-4c78-c866-68b2a3dbe387"
   },
   "outputs": [
    {
     "data": {
      "text/plain": [
       "<seaborn.axisgrid.FacetGrid at 0x7f94d3058130>"
      ]
     },
     "execution_count": 28,
     "metadata": {},
     "output_type": "execute_result"
    },
    {
     "data": {
      "image/png": "[encoded data removed]",
      "text/plain": [
       "<Figure size 500x500 with 1 Axes>"
      ]
     },
     "metadata": {},
     "output_type": "display_data"
    }
   ],
   "source": [
    "sns.displot(df_cap, x='price', kde=True)"
   ]
  },
  {
   "attachments": {},
   "cell_type": "markdown",
   "metadata": {
    "id": "DJtKCGGIDIiQ"
   },
   "source": [
    "## Preprocessing\n",
    "\n",
    "Preprocessing data to feed the model, split data for training, evaluating and testing\n",
    "\n",
    "1. encode categorical data\n",
    "2. split dataset\n"
   ]
  },
  {
   "attachments": {},
   "cell_type": "markdown",
   "metadata": {
    "id": "Do1joIEhG0X2"
   },
   "source": [
    "There are 3 categorical columns. neighborhood_group, neighborhood and room_type. We can use one hot encoding or label encoding. in this case I will use label encoding. Because there's too much categories in columns like neighborhood. encoding as labels can affect the model's efficiency if they get interpreted as those integer labels have ordinal relationship.\n"
   ]
  },
  {
   "cell_type": "code",
   "execution_count": 29,
   "metadata": {
    "colab": {
     "base_uri": "https://localhost:8080/",
     "height": 206
    },
    "executionInfo": {
     "elapsed": 406,
     "status": "ok",
     "timestamp": 1687419232534,
     "user": {
      "displayName": "Shehan DMG",
      "userId": "14911428634724278187"
     },
     "user_tz": -330
    },
    "id": "zpQRv2VnIN_p",
    "outputId": "45db9479-b72e-4479-d554-e2d453f7a4c8"
   },
   "outputs": [
    {
     "data": {
      "text/html": [
       "\n",
       "  <div id=\"df-9d745b1a-056a-40ae-b0c9-12f928ec1e3a\">\n",
       "    <div class=\"colab-df-container\">\n",
       "      <div>\n",
       "<style scoped>\n",
       "    .dataframe tbody tr th:only-of-type {\n",
       "        vertical-align: middle;\n",
       "    }\n",
       "\n",
       "    .dataframe tbody tr th {\n",
       "        vertical-align: top;\n",
       "    }\n",
       "\n",
       "    .dataframe thead th {\n",
       "        text-align: right;\n",
       "    }\n",
       "</style>\n",
       "<table border=\"1\" class=\"dataframe\">\n",
       "  <thead>\n",
       "    <tr style=\"text-align: right;\">\n",
       "      <th></th>\n",
       "      <th>neighbourhood_group</th>\n",
       "      <th>neighbourhood</th>\n",
       "      <th>room_type</th>\n",
       "      <th>price</th>\n",
       "      <th>minimum_nights</th>\n",
       "      <th>number_of_reviews</th>\n",
       "      <th>availability_365</th>\n",
       "    </tr>\n",
       "  </thead>\n",
       "  <tbody>\n",
       "    <tr>\n",
       "      <th>0</th>\n",
       "      <td>Brooklyn</td>\n",
       "      <td>Kensington</td>\n",
       "      <td>Private room</td>\n",
       "      <td>149.0</td>\n",
       "      <td>1</td>\n",
       "      <td>9</td>\n",
       "      <td>365</td>\n",
       "    </tr>\n",
       "    <tr>\n",
       "      <th>1</th>\n",
       "      <td>Manhattan</td>\n",
       "      <td>Midtown</td>\n",
       "      <td>Entire home/apt</td>\n",
       "      <td>225.0</td>\n",
       "      <td>1</td>\n",
       "      <td>45</td>\n",
       "      <td>355</td>\n",
       "    </tr>\n",
       "    <tr>\n",
       "      <th>2</th>\n",
       "      <td>Manhattan</td>\n",
       "      <td>Harlem</td>\n",
       "      <td>Private room</td>\n",
       "      <td>150.0</td>\n",
       "      <td>3</td>\n",
       "      <td>0</td>\n",
       "      <td>365</td>\n",
       "    </tr>\n",
       "    <tr>\n",
       "      <th>3</th>\n",
       "      <td>Brooklyn</td>\n",
       "      <td>Clinton Hill</td>\n",
       "      <td>Entire home/apt</td>\n",
       "      <td>89.0</td>\n",
       "      <td>1</td>\n",
       "      <td>270</td>\n",
       "      <td>194</td>\n",
       "    </tr>\n",
       "    <tr>\n",
       "      <th>4</th>\n",
       "      <td>Manhattan</td>\n",
       "      <td>East Harlem</td>\n",
       "      <td>Entire home/apt</td>\n",
       "      <td>80.0</td>\n",
       "      <td>10</td>\n",
       "      <td>9</td>\n",
       "      <td>0</td>\n",
       "    </tr>\n",
       "  </tbody>\n",
       "</table>\n",
       "</div>\n",
       "      <button class=\"colab-df-convert\" onclick=\"convertToInteractive('df-9d745b1a-056a-40ae-b0c9-12f928ec1e3a')\"\n",
       "              title=\"Convert this dataframe to an interactive table.\"\n",
       "              style=\"display:none;\">\n",
       "        \n",
       "  <svg xmlns=\"http://www.w3.org/2000/svg\" height=\"24px\"viewBox=\"0 0 24 24\"\n",
       "       width=\"24px\">\n",
       "    <path d=\"M0 0h24v24H0V0z\" fill=\"none\"/>\n",
       "    <path d=\"M18.56 5.44l.94 2.06.94-2.06 2.06-.94-2.06-.94-.94-2.06-.94 2.06-2.06.94zm-11 1L8.5 8.5l.94-2.06 2.06-.94-2.06-.94L8.5 2.5l-.94 2.06-2.06.94zm10 10l.94 2.06.94-2.06 2.06-.94-2.06-.94-.94-2.06-.94 2.06-2.06.94z\"/><path d=\"M17.41 7.96l-1.37-1.37c-.4-.4-.92-.59-1.43-.59-.52 0-1.04.2-1.43.59L10.3 9.45l-7.72 7.72c-.78.78-.78 2.05 0 2.83L4 21.41c.39.39.9.59 1.41.59.51 0 1.02-.2 1.41-.59l7.78-7.78 2.81-2.81c.8-.78.8-2.07 0-2.86zM5.41 20L4 18.59l7.72-7.72 1.47 1.35L5.41 20z\"/>\n",
       "  </svg>\n",
       "      </button>\n",
       "      \n",
       "  <style>\n",
       "    .colab-df-container {\n",
       "      display:flex;\n",
       "      flex-wrap:wrap;\n",
       "      gap: 12px;\n",
       "    }\n",
       "\n",
       "    .colab-df-convert {\n",
       "      background-color: #E8F0FE;\n",
       "      border: none;\n",
       "      border-radius: 50%;\n",
       "      cursor: pointer;\n",
       "      display: none;\n",
       "      fill: #1967D2;\n",
       "      height: 32px;\n",
       "      padding: 0 0 0 0;\n",
       "      width: 32px;\n",
       "    }\n",
       "\n",
       "    .colab-df-convert:hover {\n",
       "      background-color: #E2EBFA;\n",
       "      box-shadow: 0px 1px 2px rgba(60, 64, 67, 0.3), 0px 1px 3px 1px rgba(60, 64, 67, 0.15);\n",
       "      fill: #174EA6;\n",
       "    }\n",
       "\n",
       "    [theme=dark] .colab-df-convert {\n",
       "      background-color: #3B4455;\n",
       "      fill: #D2E3FC;\n",
       "    }\n",
       "\n",
       "    [theme=dark] .colab-df-convert:hover {\n",
       "      background-color: #434B5C;\n",
       "      box-shadow: 0px 1px 3px 1px rgba(0, 0, 0, 0.15);\n",
       "      filter: drop-shadow(0px 1px 2px rgba(0, 0, 0, 0.3));\n",
       "      fill: #FFFFFF;\n",
       "    }\n",
       "  </style>\n",
       "\n",
       "      <script>\n",
       "        const buttonEl =\n",
       "          document.querySelector('#df-9d745b1a-056a-40ae-b0c9-12f928ec1e3a button.colab-df-convert');\n",
       "        buttonEl.style.display =\n",
       "          google.colab.kernel.accessAllowed ? 'block' : 'none';\n",
       "\n",
       "        async function convertToInteractive(key) {\n",
       "          const element = document.querySelector('#df-9d745b1a-056a-40ae-b0c9-12f928ec1e3a');\n",
       "          const dataTable =\n",
       "            await google.colab.kernel.invokeFunction('convertToInteractive',\n",
       "                                                     [key], {});\n",
       "          if (!dataTable) return;\n",
       "\n",
       "          const docLinkHtml = 'Like what you see? Visit the ' +\n",
       "            '<a target=\"_blank\" href=https://colab.research.google.com/notebooks/data_table.ipynb>data table notebook</a>'\n",
       "            + ' to learn more about interactive tables.';\n",
       "          element.innerHTML = '';\n",
       "          dataTable['output_type'] = 'display_data';\n",
       "          await google.colab.output.renderOutput(dataTable, element);\n",
       "          const docLink = document.createElement('div');\n",
       "          docLink.innerHTML = docLinkHtml;\n",
       "          element.appendChild(docLink);\n",
       "        }\n",
       "      </script>\n",
       "    </div>\n",
       "  </div>\n",
       "  "
      ],
      "text/plain": [
       "  neighbourhood_group neighbourhood        room_type  price  minimum_nights  \\\n",
       "0            Brooklyn    Kensington     Private room  149.0               1   \n",
       "1           Manhattan       Midtown  Entire home/apt  225.0               1   \n",
       "2           Manhattan        Harlem     Private room  150.0               3   \n",
       "3            Brooklyn  Clinton Hill  Entire home/apt   89.0               1   \n",
       "4           Manhattan   East Harlem  Entire home/apt   80.0              10   \n",
       "\n",
       "   number_of_reviews  availability_365  \n",
       "0                  9               365  \n",
       "1                 45               355  \n",
       "2                  0               365  \n",
       "3                270               194  \n",
       "4                  9                 0  "
      ]
     },
     "execution_count": 29,
     "metadata": {},
     "output_type": "execute_result"
    }
   ],
   "source": [
    "df_cap.head()"
   ]
  },
  {
   "cell_type": "code",
   "execution_count": 30,
   "metadata": {
    "executionInfo": {
     "elapsed": 408,
     "status": "ok",
     "timestamp": 1687419236305,
     "user": {
      "displayName": "Shehan DMG",
      "userId": "14911428634724278187"
     },
     "user_tz": -330
    },
    "id": "zrqt3jZhJZxB"
   },
   "outputs": [],
   "source": [
    "import json\n",
    "\n",
    "# encode categorical data to labels\n",
    "\n",
    "room_type_key = 1\n",
    "neighbourhood_group_key = 1\n",
    "neighbourhood_key = 1\n",
    "\n",
    "\n",
    "def encode_room_types_dict(room_types):\n",
    "    global room_type_key\n",
    "    encoded_dict = {}\n",
    "    for room_type in room_types:\n",
    "        if room_type not in encoded_dict:\n",
    "            encoded_dict[room_type] = room_type_key\n",
    "            room_type_key += 1\n",
    "    return encoded_dict\n",
    "\n",
    "\n",
    "def encode_neighbourhood_groups_dict(room_types):\n",
    "    global neighbourhood_group_key\n",
    "    encoded_dict = {}\n",
    "    for room_type in room_types:\n",
    "        if room_type not in encoded_dict:\n",
    "            encoded_dict[room_type] = neighbourhood_group_key\n",
    "            neighbourhood_group_key += 1\n",
    "    return encoded_dict\n",
    "\n",
    "\n",
    "def encode_neighbourhoods_dict(room_types):\n",
    "    global neighbourhood_key\n",
    "    encoded_dict = {}\n",
    "    for room_type in room_types:\n",
    "        if room_type not in encoded_dict:\n",
    "            encoded_dict[room_type] = neighbourhood_key\n",
    "            neighbourhood_key += 1\n",
    "    return encoded_dict\n",
    "\n",
    "\n",
    "encoded_room_type_dict = encode_room_types_dict(dfc['room_type'])\n",
    "encoded_neighbourhood_groups_dict = encode_neighbourhood_groups_dict(\n",
    "    dfc['neighbourhood_group'])\n",
    "encoded_neighbourhoods_dict = encode_neighbourhoods_dict(dfc['neighbourhood'])\n",
    "\n",
    "# save the encoded dicts as a json files\n",
    "with open('encoded_room_type_dict.json', \"w\") as json_file:\n",
    "    json.dump(encoded_room_type_dict, json_file)\n",
    "\n",
    "with open('encoded_neighbourhood_groups_dict.json', \"w\") as json_file:\n",
    "    json.dump(encoded_neighbourhood_groups_dict, json_file)\n",
    "\n",
    "with open('encoded_neighbourhoods_dict.json', \"w\") as json_file:\n",
    "    json.dump(encoded_neighbourhoods_dict, json_file)"
   ]
  },
  {
   "attachments": {},
   "cell_type": "markdown",
   "metadata": {
    "id": "7Un57MiIZdPE"
   },
   "source": [
    "functions for encode categorical data. label encode the categorical data.\n"
   ]
  },
  {
   "cell_type": "code",
   "execution_count": 31,
   "metadata": {
    "colab": {
     "base_uri": "https://localhost:8080/",
     "height": 206
    },
    "executionInfo": {
     "elapsed": 54519,
     "status": "ok",
     "timestamp": 1687419296641,
     "user": {
      "displayName": "Shehan DMG",
      "userId": "14911428634724278187"
     },
     "user_tz": -330
    },
    "id": "Gfk6VEXXZhu7",
    "outputId": "d645e000-a83b-4b33-e87e-7bee3bb4d971"
   },
   "outputs": [
    {
     "data": {
      "text/html": [
       "\n",
       "  <div id=\"df-38deb39a-9468-4997-b5a0-4e96b1b035fa\">\n",
       "    <div class=\"colab-df-container\">\n",
       "      <div>\n",
       "<style scoped>\n",
       "    .dataframe tbody tr th:only-of-type {\n",
       "        vertical-align: middle;\n",
       "    }\n",
       "\n",
       "    .dataframe tbody tr th {\n",
       "        vertical-align: top;\n",
       "    }\n",
       "\n",
       "    .dataframe thead th {\n",
       "        text-align: right;\n",
       "    }\n",
       "</style>\n",
       "<table border=\"1\" class=\"dataframe\">\n",
       "  <thead>\n",
       "    <tr style=\"text-align: right;\">\n",
       "      <th></th>\n",
       "      <th>neighbourhood_group</th>\n",
       "      <th>neighbourhood</th>\n",
       "      <th>room_type</th>\n",
       "      <th>price</th>\n",
       "      <th>minimum_nights</th>\n",
       "      <th>number_of_reviews</th>\n",
       "      <th>availability_365</th>\n",
       "    </tr>\n",
       "  </thead>\n",
       "  <tbody>\n",
       "    <tr>\n",
       "      <th>0</th>\n",
       "      <td>1</td>\n",
       "      <td>1</td>\n",
       "      <td>1</td>\n",
       "      <td>149.0</td>\n",
       "      <td>1</td>\n",
       "      <td>9</td>\n",
       "      <td>365</td>\n",
       "    </tr>\n",
       "    <tr>\n",
       "      <th>1</th>\n",
       "      <td>2</td>\n",
       "      <td>2</td>\n",
       "      <td>2</td>\n",
       "      <td>225.0</td>\n",
       "      <td>1</td>\n",
       "      <td>45</td>\n",
       "      <td>355</td>\n",
       "    </tr>\n",
       "    <tr>\n",
       "      <th>2</th>\n",
       "      <td>2</td>\n",
       "      <td>3</td>\n",
       "      <td>1</td>\n",
       "      <td>150.0</td>\n",
       "      <td>3</td>\n",
       "      <td>0</td>\n",
       "      <td>365</td>\n",
       "    </tr>\n",
       "    <tr>\n",
       "      <th>3</th>\n",
       "      <td>1</td>\n",
       "      <td>4</td>\n",
       "      <td>2</td>\n",
       "      <td>89.0</td>\n",
       "      <td>1</td>\n",
       "      <td>270</td>\n",
       "      <td>194</td>\n",
       "    </tr>\n",
       "    <tr>\n",
       "      <th>4</th>\n",
       "      <td>2</td>\n",
       "      <td>5</td>\n",
       "      <td>2</td>\n",
       "      <td>80.0</td>\n",
       "      <td>10</td>\n",
       "      <td>9</td>\n",
       "      <td>0</td>\n",
       "    </tr>\n",
       "  </tbody>\n",
       "</table>\n",
       "</div>\n",
       "      <button class=\"colab-df-convert\" onclick=\"convertToInteractive('df-38deb39a-9468-4997-b5a0-4e96b1b035fa')\"\n",
       "              title=\"Convert this dataframe to an interactive table.\"\n",
       "              style=\"display:none;\">\n",
       "        \n",
       "  <svg xmlns=\"http://www.w3.org/2000/svg\" height=\"24px\"viewBox=\"0 0 24 24\"\n",
       "       width=\"24px\">\n",
       "    <path d=\"M0 0h24v24H0V0z\" fill=\"none\"/>\n",
       "    <path d=\"M18.56 5.44l.94 2.06.94-2.06 2.06-.94-2.06-.94-.94-2.06-.94 2.06-2.06.94zm-11 1L8.5 8.5l.94-2.06 2.06-.94-2.06-.94L8.5 2.5l-.94 2.06-2.06.94zm10 10l.94 2.06.94-2.06 2.06-.94-2.06-.94-.94-2.06-.94 2.06-2.06.94z\"/><path d=\"M17.41 7.96l-1.37-1.37c-.4-.4-.92-.59-1.43-.59-.52 0-1.04.2-1.43.59L10.3 9.45l-7.72 7.72c-.78.78-.78 2.05 0 2.83L4 21.41c.39.39.9.59 1.41.59.51 0 1.02-.2 1.41-.59l7.78-7.78 2.81-2.81c.8-.78.8-2.07 0-2.86zM5.41 20L4 18.59l7.72-7.72 1.47 1.35L5.41 20z\"/>\n",
       "  </svg>\n",
       "      </button>\n",
       "      \n",
       "  <style>\n",
       "    .colab-df-container {\n",
       "      display:flex;\n",
       "      flex-wrap:wrap;\n",
       "      gap: 12px;\n",
       "    }\n",
       "\n",
       "    .colab-df-convert {\n",
       "      background-color: #E8F0FE;\n",
       "      border: none;\n",
       "      border-radius: 50%;\n",
       "      cursor: pointer;\n",
       "      display: none;\n",
       "      fill: #1967D2;\n",
       "      height: 32px;\n",
       "      padding: 0 0 0 0;\n",
       "      width: 32px;\n",
       "    }\n",
       "\n",
       "    .colab-df-convert:hover {\n",
       "      background-color: #E2EBFA;\n",
       "      box-shadow: 0px 1px 2px rgba(60, 64, 67, 0.3), 0px 1px 3px 1px rgba(60, 64, 67, 0.15);\n",
       "      fill: #174EA6;\n",
       "    }\n",
       "\n",
       "    [theme=dark] .colab-df-convert {\n",
       "      background-color: #3B4455;\n",
       "      fill: #D2E3FC;\n",
       "    }\n",
       "\n",
       "    [theme=dark] .colab-df-convert:hover {\n",
       "      background-color: #434B5C;\n",
       "      box-shadow: 0px 1px 3px 1px rgba(0, 0, 0, 0.15);\n",
       "      filter: drop-shadow(0px 1px 2px rgba(0, 0, 0, 0.3));\n",
       "      fill: #FFFFFF;\n",
       "    }\n",
       "  </style>\n",
       "\n",
       "      <script>\n",
       "        const buttonEl =\n",
       "          document.querySelector('#df-38deb39a-9468-4997-b5a0-4e96b1b035fa button.colab-df-convert');\n",
       "        buttonEl.style.display =\n",
       "          google.colab.kernel.accessAllowed ? 'block' : 'none';\n",
       "\n",
       "        async function convertToInteractive(key) {\n",
       "          const element = document.querySelector('#df-38deb39a-9468-4997-b5a0-4e96b1b035fa');\n",
       "          const dataTable =\n",
       "            await google.colab.kernel.invokeFunction('convertToInteractive',\n",
       "                                                     [key], {});\n",
       "          if (!dataTable) return;\n",
       "\n",
       "          const docLinkHtml = 'Like what you see? Visit the ' +\n",
       "            '<a target=\"_blank\" href=https://colab.research.google.com/notebooks/data_table.ipynb>data table notebook</a>'\n",
       "            + ' to learn more about interactive tables.';\n",
       "          element.innerHTML = '';\n",
       "          dataTable['output_type'] = 'display_data';\n",
       "          await google.colab.output.renderOutput(dataTable, element);\n",
       "          const docLink = document.createElement('div');\n",
       "          docLink.innerHTML = docLinkHtml;\n",
       "          element.appendChild(docLink);\n",
       "        }\n",
       "      </script>\n",
       "    </div>\n",
       "  </div>\n",
       "  "
      ],
      "text/plain": [
       "  neighbourhood_group neighbourhood room_type  price  minimum_nights  \\\n",
       "0                   1             1         1  149.0               1   \n",
       "1                   2             2         2  225.0               1   \n",
       "2                   2             3         1  150.0               3   \n",
       "3                   1             4         2   89.0               1   \n",
       "4                   2             5         2   80.0              10   \n",
       "\n",
       "   number_of_reviews  availability_365  \n",
       "0                  9               365  \n",
       "1                 45               355  \n",
       "2                  0               365  \n",
       "3                270               194  \n",
       "4                  9                 0  "
      ]
     },
     "execution_count": 31,
     "metadata": {},
     "output_type": "execute_result"
    }
   ],
   "source": [
    "def encode_room_types(df):\n",
    "    for i in df.index:\n",
    "        if df.loc[i, \"room_type\"] in encoded_room_type_dict:\n",
    "            df.loc[i, \"room_type\"] = encoded_room_type_dict[df.loc[i, \"room_type\"]]\n",
    "        else:\n",
    "            df.loc[i, \"room_type\"] = 0\n",
    "\n",
    "\n",
    "def encode_neighbourhood_groups(df):\n",
    "    for i in df.index:\n",
    "        if df.loc[i, \"neighbourhood_group\"] in encoded_neighbourhood_groups_dict:\n",
    "            df.loc[i, \"neighbourhood_group\"] = encoded_neighbourhood_groups_dict[df.loc[i,\n",
    "                                                                                        \"neighbourhood_group\"]]\n",
    "        else:\n",
    "            df.loc[i, \"neighbourhood_group\"] = 0\n",
    "\n",
    "\n",
    "def encode_neighbourhoods(df):\n",
    "    for i in df.index:\n",
    "        if df.loc[i, \"neighbourhood\"] in encoded_neighbourhoods_dict:\n",
    "            df.loc[i, \"neighbourhood\"] = encoded_neighbourhoods_dict[df.loc[i, \"neighbourhood\"]]\n",
    "        else:\n",
    "            df.loc[i, \"neighbourhood\"] = 0\n",
    "\n",
    "\n",
    "dfc2 = df_cap.copy()\n",
    "encode_room_types(dfc2)\n",
    "encode_neighbourhood_groups(dfc2)\n",
    "encode_neighbourhoods(dfc2)\n",
    "dfc2.head()"
   ]
  },
  {
   "attachments": {},
   "cell_type": "markdown",
   "metadata": {
    "id": "b3Oml-ZSSGpy"
   },
   "source": [
    "Splitting the dataset\n"
   ]
  },
  {
   "cell_type": "code",
   "execution_count": 32,
   "metadata": {
    "executionInfo": {
     "elapsed": 407,
     "status": "ok",
     "timestamp": 1687419308741,
     "user": {
      "displayName": "Shehan DMG",
      "userId": "14911428634724278187"
     },
     "user_tz": -330
    },
    "id": "TAHRYKZoKsJJ"
   },
   "outputs": [],
   "source": [
    "# training,eval,test\n",
    "total_rows = len(dfc2.index)\n",
    "\n",
    "rows_p_70 = round(total_rows * 0.7)\n",
    "rows_p_90 = round(total_rows * 0.9)\n",
    "rows_p_10 = round(total_rows * 0.1)\n",
    "\n",
    "training_features = dfc2[:rows_p_70]\n",
    "eval_features = dfc2[rows_p_70:rows_p_90]\n",
    "test_features = dfc2[rows_p_90:]"
   ]
  },
  {
   "cell_type": "code",
   "execution_count": 33,
   "metadata": {
    "colab": {
     "base_uri": "https://localhost:8080/"
    },
    "executionInfo": {
     "elapsed": 393,
     "status": "ok",
     "timestamp": 1687419311000,
     "user": {
      "displayName": "Shehan DMG",
      "userId": "14911428634724278187"
     },
     "user_tz": -330
    },
    "id": "aZ-pjPggTsYK",
    "outputId": "c0fb05e5-843d-4287-d4a9-80ef5c106c18"
   },
   "outputs": [
    {
     "name": "stdout",
     "output_type": "stream",
     "text": [
      "training df 34226 \n",
      " eval df 9780 \n",
      " test df 4889\n"
     ]
    }
   ],
   "source": [
    "print(\"training df\", len(training_features.index), \"\\n eval df\", len(\n",
    "    eval_features.index), \"\\n test df\", len(test_features.index))"
   ]
  },
  {
   "attachments": {},
   "cell_type": "markdown",
   "metadata": {
    "id": "UIH1GEOGVkIK"
   },
   "source": [
    "Now let's split labels and features\n"
   ]
  },
  {
   "cell_type": "code",
   "execution_count": 34,
   "metadata": {
    "executionInfo": {
     "elapsed": 11,
     "status": "ok",
     "timestamp": 1687419317244,
     "user": {
      "displayName": "Shehan DMG",
      "userId": "14911428634724278187"
     },
     "user_tz": -330
    },
    "id": "TDnEGU02VEHS"
   },
   "outputs": [],
   "source": [
    "training_labels = training_features.pop('price')\n",
    "eval_labels = eval_features.pop('price')\n",
    "test_labels = test_features.pop('price')"
   ]
  },
  {
   "cell_type": "code",
   "execution_count": 35,
   "metadata": {
    "colab": {
     "base_uri": "https://localhost:8080/",
     "height": 206
    },
    "executionInfo": {
     "elapsed": 13,
     "status": "ok",
     "timestamp": 1687419321696,
     "user": {
      "displayName": "Shehan DMG",
      "userId": "14911428634724278187"
     },
     "user_tz": -330
    },
    "id": "D92KaDAgdRyF",
    "outputId": "f27dedfc-f9a8-4530-88f7-d3b24fc4ce2c"
   },
   "outputs": [
    {
     "data": {
      "text/html": [
       "\n",
       "  <div id=\"df-18274061-07f2-4347-9fec-141e427dff55\">\n",
       "    <div class=\"colab-df-container\">\n",
       "      <div>\n",
       "<style scoped>\n",
       "    .dataframe tbody tr th:only-of-type {\n",
       "        vertical-align: middle;\n",
       "    }\n",
       "\n",
       "    .dataframe tbody tr th {\n",
       "        vertical-align: top;\n",
       "    }\n",
       "\n",
       "    .dataframe thead th {\n",
       "        text-align: right;\n",
       "    }\n",
       "</style>\n",
       "<table border=\"1\" class=\"dataframe\">\n",
       "  <thead>\n",
       "    <tr style=\"text-align: right;\">\n",
       "      <th></th>\n",
       "      <th>neighbourhood_group</th>\n",
       "      <th>neighbourhood</th>\n",
       "      <th>room_type</th>\n",
       "      <th>minimum_nights</th>\n",
       "      <th>number_of_reviews</th>\n",
       "      <th>availability_365</th>\n",
       "    </tr>\n",
       "  </thead>\n",
       "  <tbody>\n",
       "    <tr>\n",
       "      <th>0</th>\n",
       "      <td>1</td>\n",
       "      <td>1</td>\n",
       "      <td>1</td>\n",
       "      <td>1</td>\n",
       "      <td>9</td>\n",
       "      <td>365</td>\n",
       "    </tr>\n",
       "    <tr>\n",
       "      <th>1</th>\n",
       "      <td>2</td>\n",
       "      <td>2</td>\n",
       "      <td>2</td>\n",
       "      <td>1</td>\n",
       "      <td>45</td>\n",
       "      <td>355</td>\n",
       "    </tr>\n",
       "    <tr>\n",
       "      <th>2</th>\n",
       "      <td>2</td>\n",
       "      <td>3</td>\n",
       "      <td>1</td>\n",
       "      <td>3</td>\n",
       "      <td>0</td>\n",
       "      <td>365</td>\n",
       "    </tr>\n",
       "    <tr>\n",
       "      <th>3</th>\n",
       "      <td>1</td>\n",
       "      <td>4</td>\n",
       "      <td>2</td>\n",
       "      <td>1</td>\n",
       "      <td>270</td>\n",
       "      <td>194</td>\n",
       "    </tr>\n",
       "    <tr>\n",
       "      <th>4</th>\n",
       "      <td>2</td>\n",
       "      <td>5</td>\n",
       "      <td>2</td>\n",
       "      <td>10</td>\n",
       "      <td>9</td>\n",
       "      <td>0</td>\n",
       "    </tr>\n",
       "  </tbody>\n",
       "</table>\n",
       "</div>\n",
       "      <button class=\"colab-df-convert\" onclick=\"convertToInteractive('df-18274061-07f2-4347-9fec-141e427dff55')\"\n",
       "              title=\"Convert this dataframe to an interactive table.\"\n",
       "              style=\"display:none;\">\n",
       "        \n",
       "  <svg xmlns=\"http://www.w3.org/2000/svg\" height=\"24px\"viewBox=\"0 0 24 24\"\n",
       "       width=\"24px\">\n",
       "    <path d=\"M0 0h24v24H0V0z\" fill=\"none\"/>\n",
       "    <path d=\"M18.56 5.44l.94 2.06.94-2.06 2.06-.94-2.06-.94-.94-2.06-.94 2.06-2.06.94zm-11 1L8.5 8.5l.94-2.06 2.06-.94-2.06-.94L8.5 2.5l-.94 2.06-2.06.94zm10 10l.94 2.06.94-2.06 2.06-.94-2.06-.94-.94-2.06-.94 2.06-2.06.94z\"/><path d=\"M17.41 7.96l-1.37-1.37c-.4-.4-.92-.59-1.43-.59-.52 0-1.04.2-1.43.59L10.3 9.45l-7.72 7.72c-.78.78-.78 2.05 0 2.83L4 21.41c.39.39.9.59 1.41.59.51 0 1.02-.2 1.41-.59l7.78-7.78 2.81-2.81c.8-.78.8-2.07 0-2.86zM5.41 20L4 18.59l7.72-7.72 1.47 1.35L5.41 20z\"/>\n",
       "  </svg>\n",
       "      </button>\n",
       "      \n",
       "  <style>\n",
       "    .colab-df-container {\n",
       "      display:flex;\n",
       "      flex-wrap:wrap;\n",
       "      gap: 12px;\n",
       "    }\n",
       "\n",
       "    .colab-df-convert {\n",
       "      background-color: #E8F0FE;\n",
       "      border: none;\n",
       "      border-radius: 50%;\n",
       "      cursor: pointer;\n",
       "      display: none;\n",
       "      fill: #1967D2;\n",
       "      height: 32px;\n",
       "      padding: 0 0 0 0;\n",
       "      width: 32px;\n",
       "    }\n",
       "\n",
       "    .colab-df-convert:hover {\n",
       "      background-color: #E2EBFA;\n",
       "      box-shadow: 0px 1px 2px rgba(60, 64, 67, 0.3), 0px 1px 3px 1px rgba(60, 64, 67, 0.15);\n",
       "      fill: #174EA6;\n",
       "    }\n",
       "\n",
       "    [theme=dark] .colab-df-convert {\n",
       "      background-color: #3B4455;\n",
       "      fill: #D2E3FC;\n",
       "    }\n",
       "\n",
       "    [theme=dark] .colab-df-convert:hover {\n",
       "      background-color: #434B5C;\n",
       "      box-shadow: 0px 1px 3px 1px rgba(0, 0, 0, 0.15);\n",
       "      filter: drop-shadow(0px 1px 2px rgba(0, 0, 0, 0.3));\n",
       "      fill: #FFFFFF;\n",
       "    }\n",
       "  </style>\n",
       "\n",
       "      <script>\n",
       "        const buttonEl =\n",
       "          document.querySelector('#df-18274061-07f2-4347-9fec-141e427dff55 button.colab-df-convert');\n",
       "        buttonEl.style.display =\n",
       "          google.colab.kernel.accessAllowed ? 'block' : 'none';\n",
       "\n",
       "        async function convertToInteractive(key) {\n",
       "          const element = document.querySelector('#df-18274061-07f2-4347-9fec-141e427dff55');\n",
       "          const dataTable =\n",
       "            await google.colab.kernel.invokeFunction('convertToInteractive',\n",
       "                                                     [key], {});\n",
       "          if (!dataTable) return;\n",
       "\n",
       "          const docLinkHtml = 'Like what you see? Visit the ' +\n",
       "            '<a target=\"_blank\" href=https://colab.research.google.com/notebooks/data_table.ipynb>data table notebook</a>'\n",
       "            + ' to learn more about interactive tables.';\n",
       "          element.innerHTML = '';\n",
       "          dataTable['output_type'] = 'display_data';\n",
       "          await google.colab.output.renderOutput(dataTable, element);\n",
       "          const docLink = document.createElement('div');\n",
       "          docLink.innerHTML = docLinkHtml;\n",
       "          element.appendChild(docLink);\n",
       "        }\n",
       "      </script>\n",
       "    </div>\n",
       "  </div>\n",
       "  "
      ],
      "text/plain": [
       "  neighbourhood_group neighbourhood room_type  minimum_nights  \\\n",
       "0                   1             1         1               1   \n",
       "1                   2             2         2               1   \n",
       "2                   2             3         1               3   \n",
       "3                   1             4         2               1   \n",
       "4                   2             5         2              10   \n",
       "\n",
       "   number_of_reviews  availability_365  \n",
       "0                  9               365  \n",
       "1                 45               355  \n",
       "2                  0               365  \n",
       "3                270               194  \n",
       "4                  9                 0  "
      ]
     },
     "execution_count": 35,
     "metadata": {},
     "output_type": "execute_result"
    }
   ],
   "source": [
    "training_features.head()"
   ]
  },
  {
   "cell_type": "code",
   "execution_count": 36,
   "metadata": {
    "colab": {
     "base_uri": "https://localhost:8080/"
    },
    "executionInfo": {
     "elapsed": 2,
     "status": "ok",
     "timestamp": 1687419327293,
     "user": {
      "displayName": "Shehan DMG",
      "userId": "14911428634724278187"
     },
     "user_tz": -330
    },
    "id": "_mYbMCbLloxN",
    "outputId": "fc7ac6c1-9dba-4514-9de3-a948babded2c"
   },
   "outputs": [
    {
     "data": {
      "text/plain": [
       "1.0907554916486049"
      ]
     },
     "execution_count": 36,
     "metadata": {},
     "output_type": "execute_result"
    }
   ],
   "source": [
    "training_labels.skew()"
   ]
  },
  {
   "attachments": {},
   "cell_type": "markdown",
   "metadata": {
    "id": "RgJP7r2FfEmJ"
   },
   "source": [
    "finaly convert int values to float32\n"
   ]
  },
  {
   "cell_type": "code",
   "execution_count": 37,
   "metadata": {
    "executionInfo": {
     "elapsed": 2,
     "status": "ok",
     "timestamp": 1687419334104,
     "user": {
      "displayName": "Shehan DMG",
      "userId": "14911428634724278187"
     },
     "user_tz": -330
    },
    "id": "csVEF4OCfH4U"
   },
   "outputs": [],
   "source": [
    "training_features = np.asarray(training_features).astype('float32')\n",
    "eval_features = np.asarray(eval_features).astype('float32')\n",
    "test_features = np.asarray(test_features).astype('float32')\n",
    "training_labels = np.asarray(training_labels).astype('float32')\n",
    "eval_labels = np.asarray(eval_labels).astype('float32')\n",
    "test_labels = np.asarray(test_labels).astype('float32')"
   ]
  },
  {
   "cell_type": "code",
   "execution_count": 38,
   "metadata": {
    "colab": {
     "base_uri": "https://localhost:8080/"
    },
    "executionInfo": {
     "elapsed": 424,
     "status": "ok",
     "timestamp": 1687419337384,
     "user": {
      "displayName": "Shehan DMG",
      "userId": "14911428634724278187"
     },
     "user_tz": -330
    },
    "id": "IJa8K1o4gO7j",
    "outputId": "3c0676f4-4108-44c1-e04b-fad21ba1abd8"
   },
   "outputs": [
    {
     "data": {
      "text/plain": [
       "(34226, 6)"
      ]
     },
     "execution_count": 38,
     "metadata": {},
     "output_type": "execute_result"
    }
   ],
   "source": [
    "training_features.shape"
   ]
  },
  {
   "attachments": {},
   "cell_type": "markdown",
   "metadata": {
    "id": "QyYPrSpzWXQa"
   },
   "source": [
    "## Model\n"
   ]
  },
  {
   "cell_type": "code",
   "execution_count": 72,
   "metadata": {
    "executionInfo": {
     "elapsed": 2951,
     "status": "ok",
     "timestamp": 1687421780895,
     "user": {
      "displayName": "Shehan DMG",
      "userId": "14911428634724278187"
     },
     "user_tz": -330
    },
    "id": "g-4GZ7LuV_pj"
   },
   "outputs": [],
   "source": [
    "normalizer_layer = keras.layers.Normalization()\n",
    "normalizer_layer.adapt(training_features)"
   ]
  },
  {
   "cell_type": "code",
   "execution_count": 73,
   "metadata": {
    "executionInfo": {
     "elapsed": 3,
     "status": "ok",
     "timestamp": 1687421780895,
     "user": {
      "displayName": "Shehan DMG",
      "userId": "14911428634724278187"
     },
     "user_tz": -330
    },
    "id": "WfSeWNEzX-sS"
   },
   "outputs": [],
   "source": [
    "model = keras.Sequential([\n",
    "    keras.layers.Flatten(input_shape=(4,)),\n",
    "    normalizer_layer,\n",
    "    keras.layers.Dense(64, activation='relu'),\n",
    "    keras.layers.Dense(64, activation='relu'),\n",
    "    keras.layers.Dense(1)\n",
    "])\n",
    "\n",
    "model.compile(loss='mean_absolute_error', optimizer=keras.optimizers.RMSprop(\n",
    "), metrics=[keras.metrics.MeanAbsoluteError()],)"
   ]
  },
  {
   "cell_type": "code",
   "execution_count": 74,
   "metadata": {
    "colab": {
     "base_uri": "https://localhost:8080/"
    },
    "executionInfo": {
     "elapsed": 5,
     "status": "ok",
     "timestamp": 1687421781974,
     "user": {
      "displayName": "Shehan DMG",
      "userId": "14911428634724278187"
     },
     "user_tz": -330
    },
    "id": "5eHftdhyiaKG",
    "outputId": "36c8b5b7-b262-4ecb-e9ea-bee140e84d47"
   },
   "outputs": [
    {
     "name": "stdout",
     "output_type": "stream",
     "text": [
      "Model: \"sequential_4\"\n",
      "_________________________________________________________________\n",
      " Layer (type)                Output Shape              Param #   \n",
      "=================================================================\n",
      " normalization_3 (Normalizat  (None, 6)                13        \n",
      " ion)                                                            \n",
      "                                                                 \n",
      " dense_12 (Dense)            (None, 64)                448       \n",
      "                                                                 \n",
      " dense_13 (Dense)            (None, 64)                4160      \n",
      "                                                                 \n",
      " dense_14 (Dense)            (None, 1)                 65        \n",
      "                                                                 \n",
      "=================================================================\n",
      "Total params: 4,686\n",
      "Trainable params: 4,673\n",
      "Non-trainable params: 13\n",
      "_________________________________________________________________\n"
     ]
    }
   ],
   "source": [
    "model.summary()"
   ]
  },
  {
   "cell_type": "code",
   "execution_count": null,
   "metadata": {
    "colab": {
     "base_uri": "https://localhost:8080/"
    },
    "executionInfo": {
     "elapsed": 1366863,
     "status": "ok",
     "timestamp": 1687423150816,
     "user": {
      "displayName": "Shehan DMG",
      "userId": "14911428634724278187"
     },
     "user_tz": -330
    },
    "id": "ehxgpqtCYQHb",
    "outputId": "a16a3dda-3056-47de-8f76-c6c2a976cb3a"
   },
   "outputs": [],
   "source": [
    "epochs = 500\n",
    "verbose = 0\n",
    "\n",
    "# fitting can take some time. This will print a dots while training so we can see code is running.\n",
    "\n",
    "\n",
    "class PrintDotCallback(tf.keras.callbacks.Callback):\n",
    "    def on_train_batch_end(self, batch, logs=None):\n",
    "        print(\".\", end='', flush=True)  # Print a dot without newline\n",
    "\n",
    "\n",
    "# patience is in epochs\n",
    "early_stopping = tf.keras.callbacks.EarlyStopping(monitor='loss', patience=10)\n",
    "\n",
    "history = model.fit(training_features, training_labels, epochs=epochs,\n",
    "                    verbose=verbose, callbacks=[early_stopping, PrintDotCallback()])"
   ]
  },
  {
   "cell_type": "code",
   "execution_count": 76,
   "metadata": {
    "colab": {
     "base_uri": "https://localhost:8080/"
    },
    "executionInfo": {
     "elapsed": 55,
     "status": "ok",
     "timestamp": 1687423150817,
     "user": {
      "displayName": "Shehan DMG",
      "userId": "14911428634724278187"
     },
     "user_tz": -330
    },
    "id": "OlzxW0ofuEJW",
    "outputId": "27e15706-69a0-46cf-d7c7-d6907db516c0"
   },
   "outputs": [
    {
     "data": {
      "text/plain": [
       "39.71485900878906"
      ]
     },
     "execution_count": 76,
     "metadata": {},
     "output_type": "execute_result"
    }
   ],
   "source": [
    "history.history['loss'][-1]"
   ]
  },
  {
   "cell_type": "code",
   "execution_count": 77,
   "metadata": {
    "colab": {
     "base_uri": "https://localhost:8080/",
     "height": 434
    },
    "executionInfo": {
     "elapsed": 13497,
     "status": "ok",
     "timestamp": 1687423164309,
     "user": {
      "displayName": "Shehan DMG",
      "userId": "14911428634724278187"
     },
     "user_tz": -330
    },
    "id": "ckFt1Rnbo5Wt",
    "outputId": "fa271276-89e6-4459-9654-24119328ec88"
   },
   "outputs": [
    {
     "data": {
      "image/png": "[encoded data removed]",
      "text/plain": [
       "<Figure size 640x480 with 1 Axes>"
      ]
     },
     "metadata": {},
     "output_type": "display_data"
    }
   ],
   "source": [
    "plt.plot(history.history['loss'])\n",
    "plt.xLabel = 'epoch'\n",
    "plt.yLabel = 'loss'\n",
    "plt.show()"
   ]
  },
  {
   "cell_type": "code",
   "execution_count": 78,
   "metadata": {
    "colab": {
     "base_uri": "https://localhost:8080/"
    },
    "executionInfo": {
     "elapsed": 1268,
     "status": "ok",
     "timestamp": 1687423165565,
     "user": {
      "displayName": "Shehan DMG",
      "userId": "14911428634724278187"
     },
     "user_tz": -330
    },
    "id": "gbsgAcDP2034",
    "outputId": "f8689fb9-b3ca-4710-f561-d7a7605f6c79"
   },
   "outputs": [
    {
     "name": "stdout",
     "output_type": "stream",
     "text": [
      "306/306 [==============================] - 1s 2ms/step - loss: 42.8870 - mse: 3838.2273\n"
     ]
    },
    {
     "data": {
      "text/plain": [
       "[42.886959075927734, 3838.227294921875]"
      ]
     },
     "execution_count": 78,
     "metadata": {},
     "output_type": "execute_result"
    }
   ],
   "source": [
    "eval = model.evaluate(eval_features, eval_labels)\n",
    "eval"
   ]
  },
  {
   "cell_type": "code",
   "execution_count": 79,
   "metadata": {
    "executionInfo": {
     "elapsed": 5,
     "status": "ok",
     "timestamp": 1687423165567,
     "user": {
      "displayName": "Shehan DMG",
      "userId": "14911428634724278187"
     },
     "user_tz": -330
    },
    "id": "pqKET5_nHZfK"
   },
   "outputs": [],
   "source": [
    "model.save('airbnb_nyc_room_price_predict_model.h5')"
   ]
  },
  {
   "cell_type": "code",
   "execution_count": 80,
   "metadata": {
    "colab": {
     "base_uri": "https://localhost:8080/"
    },
    "executionInfo": {
     "elapsed": 474,
     "status": "ok",
     "timestamp": 1687423166037,
     "user": {
      "displayName": "Shehan DMG",
      "userId": "14911428634724278187"
     },
     "user_tz": -330
    },
    "id": "YZjdj9_sDkw3",
    "outputId": "a921fe9e-48b2-425a-f1b3-6f13c6a02ce1"
   },
   "outputs": [
    {
     "name": "stdout",
     "output_type": "stream",
     "text": [
      "1/1 [==============================] - 0s 91ms/step\n",
      "predicted price is 101.03393 \n",
      "actual price is 99.0\n"
     ]
    }
   ],
   "source": [
    "index = 3\n",
    "preds = model.predict([test_features[index]])\n",
    "pred_price = preds[0][-1]\n",
    "actual_price = test_labels[index]\n",
    "print(\"predicted price is\", pred_price, \"\\nactual price is\", actual_price)"
   ]
  },
  {
   "attachments": {},
   "cell_type": "markdown",
   "metadata": {
    "id": "C2WRIVwzprY0"
   },
   "source": [
    "Ongoing...\n"
   ]
  }
 ],
 "metadata": {
  "colab": {
   "authorship_tag": "ABX9TyPjiVtzQCmjeomMKKH3SRGm",
   "provenance": []
  },
  "kernelspec": {
   "display_name": "Python 3 (ipykernel)",
   "language": "python",
   "name": "python3"
  },
  "language_info": {
   "codemirror_mode": {
    "name": "ipython",
    "version": 3
   },
   "file_extension": ".py",
   "mimetype": "text/x-python",
   "name": "python",
   "nbconvert_exporter": "python",
   "pygments_lexer": "ipython3",
   "version": "3.11.3"
  }
 },
 "nbformat": 4,
 "nbformat_minor": 4
}
